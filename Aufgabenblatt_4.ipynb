{
 "cells": [
  {
   "cell_type": "markdown",
   "metadata": {},
   "source": [
    "# Aufgabenblatt 4"
   ]
  },
  {
   "cell_type": "markdown",
   "metadata": {},
   "source": [
    "## Lineare Optimierung - 4\n"
   ]
  },
  {
   "cell_type": "markdown",
   "metadata": {},
   "source": [
    "### Aufgabe 1\n",
    "\n",
    "Schreiben Sie für die Aufgaben  a) und b) die Dualprobleme auf und lösen Sie diese mit dem Simplex-Algorithmus.\n",
    "\n",
    "a) $ x_1 + 2x_2 + x_4 + x_6 \\rightarrow \\text{max(min) }$\n",
    "\n",
    "unter den Nebenbedingungen:\n",
    "\n",
    "$ x_1 + 2x_2 - x_3 + 2x_4 -x_5 + 2x_6 =0,$\n",
    "\n",
    "$x_1 - 4x_2 + 2 x_3 + 2x_4 - 4 x_6 = 1,$\n",
    "\n",
    "$ 2x_1 - 2x_2 + x_3 + 4x_4 + x_5 - 2x_6 = 3, $\n",
    "\n",
    "$ x_i  \\geq 0,\\,i = 1, \\dots, 6 $\n",
    "\n",
    "\n"
   ]
  },
  {
   "cell_type": "markdown",
   "metadata": {},
   "source": [
    "### Lösung 1\n",
    "aus dem primales Problem: \n",
    "\n",
    "$c^Tx \\rightarrow max $\n",
    "\n",
    "$ Ax = b $\n",
    "\n",
    "$ x \\geq 0 $\n",
    "\n",
    "folgt das duales Problem:\n",
    "\n",
    "$b^Ty \\rightarrow min $\n",
    "\n",
    "$ A^T y = c $\n",
    "\n",
    "$ y \\geq 0 $\n",
    "\n"
   ]
  },
  {
   "cell_type": "markdown",
   "metadata": {},
   "source": [
    "$$ \\begin{pmatrix} \n",
    "\t\t0 & 1 & 3  \\\\\n",
    "\t\t\\end{pmatrix} y \\rightarrow min$$\n",
    "$$  \\begin{pmatrix} \n",
    "\t\t1 & 1 & 2  \\\\\n",
    "\t\t2 & -4 & -2  \\\\\n",
    "\t\t-1 & 2 & 1  \\\\\n",
    "\t\t2& 2& 4 \\\\\n",
    "        -1 & 0 & 1 \\\\\n",
    "        2 & -4 & -2 \n",
    "\t\t\\end{pmatrix} \n",
    "         y =  \\begin{pmatrix} \n",
    "\t\t1  \\\\\n",
    "\t\t2  \\\\\n",
    "\t\t0  \\\\\n",
    "\t\t1  \\\\\n",
    "        0  \\\\\n",
    "        1\n",
    "\t\t\\end{pmatrix}$$\n",
    "\t\t\n",
    "        \n",
    "\n",
    "$$Simplex:$$\n",
    "\n",
    "$$\\begin{array}{ccc|c} \\\\ \\hline 0 & 1 & 3 & 0  \\\\ \\hline 1 & 1 & 2 & 1 \\\\ 2 & -4 & -2 & 2 \\\\  -1 & 2 & 1 & 0 \\\\ 2 & 2 & 4 & 1 \\\\ -1 & 0 & 1 & 0 \\\\ 2 & -4 & -2 & 1  \\end{array}$$\n",
    "\n",
    "Alle Werte in der Zielzeile sind positiv, d.h. die Lösing ist schon optimal und gleich 0."
   ]
  },
  {
   "cell_type": "markdown",
   "metadata": {},
   "source": [
    "\n",
    "b) $ 3x_1 + 10x_2 + 8x_3 -6 x_4 \\rightarrow \\text{min(max) }$\n",
    "\n",
    "unter den Nebenbedingungen:\n",
    "\n",
    "$ x_1 + 3x_2 + 3 x_3 -  2x_4 = -1,$\n",
    "\n",
    "$3x_1+ 2x_2 + x_3 - x_4  \\geq -1,$\n",
    "\n",
    "$ x_1 \\leq 4,$\n",
    "\n",
    "$ x_i  \\geq 0, \\, i = 1, \\dots, 4 $"
   ]
  },
  {
   "cell_type": "markdown",
   "metadata": {},
   "source": [
    "aus dem primales Problem:\n",
    "\n",
    "$c^Tx \\rightarrow min $\n",
    "\n",
    "$ Ax = b $\n",
    "\n",
    "$ x \\geq 0 $\n",
    "\n",
    "folgt das duales Problem:\n",
    "\n",
    "$b^Ty \\rightarrow max $\n",
    "\n",
    "$ A^T y = c $\n",
    "\n",
    "$ y \\geq 0 $\n",
    "\n",
    "Wir addieren Schlupfvariablen um die Unglaublichen zu transformieren: \n",
    "$ x_1 + 3x_2 + 3 x_3 -  2x_4 = -1,$\n",
    "\n",
    "$3x_1+ 2x_2 + x_3 - x_4 +s_1 = -1,$\n",
    "\n",
    "$ x_1 + s_2 = 4,$\n"
   ]
  },
  {
   "cell_type": "markdown",
   "metadata": {},
   "source": [
    "$$ \\begin{pmatrix} \n",
    "\t\t0 & 1 & 3  \\\\\n",
    "\t\t\\end{pmatrix} y \\rightarrow min$$\n",
    "$$  \\begin{pmatrix} \n",
    "\t\t1 & 3 & 1  \\\\\n",
    "\t\t3 & 2 & 0  \\\\\n",
    "\t\t3 & 1 & 0  \\\\\n",
    "\t\t-2& -1& 0 \\\\\n",
    "        0 & 1 & 0 \\\\\n",
    "        0 & 0 & 1 \n",
    "\t\t\\end{pmatrix} \n",
    "         y =  \\begin{pmatrix} \n",
    "\t\t3  \\\\\n",
    "\t\t10  \\\\\n",
    "\t\t8  \\\\\n",
    "\t\t-6  \\\\\n",
    "        0  \\\\\n",
    "        0\n",
    "\t\t\\end{pmatrix}$$\n",
    "\t\t\n",
    "        \n",
    "\n",
    "$Simplex:$\n",
    "\n",
    "$\\begin{array}{ccc|c} \\\\ \\hline -1 & -1 & 4 & 0  \\\\ \\hline 1 & 3 & 1 & 3 \\\\ 3 & 2 & 0 & 10 \\\\  \\textbf{3} & 1 & 0 & 8 \\\\ -2 & -1 & 0 & -6 \\\\ 0 & 1& 0 & 0 \\\\ 0 & 0 & 1 & 0  \\end{array}$\n",
    "\n",
    "$\\begin{array}{ccc|c} \\\\ \\hline 0 & -2/3 & 4 & 8/3  \\\\ \\hline 0 & \\textbf{8/3} & 1 & 1/3 \\\\ 0 & 1 & 3 & 2 \\\\ 1 & 1/3 & 0 & 8/3 \\\\   0 & -1/3 & 0 & -2/3 \\\\ 0 & 1& 0 & 0 \\\\ 0 & 0 & 1 & 0  \\end{array}$\n",
    "\n",
    "$\\begin{array}{ccc|c} \\\\ \\hline 0 & 0 & 17/4 & 33/12  \\\\ \\hline 0 & 1 & 3/8 & 1/8 \\\\ 0 & 0 & 21/8 & 15/8 \\\\ 1 & 0 & -1/8 & 63/27 \\\\   0 & 0 & 1/8 & -15/24 \\\\ 0 & 1& 0 & 0 \\\\ 0 & 0 & 1 & 0  \\end{array}$\n",
    "\n",
    "Optimale Lösung: $33/12 \\approx 2,75$"
   ]
  },
  {
   "cell_type": "markdown",
   "metadata": {},
   "source": [
    "### Aufgabe 2 \n",
    "\n",
    "Lösen Sie das LP-Problem mit dem Simplex-Algorithmus:\n",
    "\n",
    "\\begin{array}{rcl}\n",
    "1000 x_1 + 200 x_2 + 400 x_3 &\\to& \\max\\\\\n",
    "x_1 + x_2 + 8 x_3 &\\leq& 250\\\\\n",
    "20 x_1  + 2 x_2 + x_3&\\leq& 200\\\\\n",
    "x_1, x_2, x_3 &\\geq& 0\n",
    "\\end{array}\n",
    "\n",
    "a) Um wieviel kann der optimale Zielfunktionswert erhöht werden, wenn man die rechte Seite der ersten Nebenbedingung von 250 auf 251 erhöht?\n",
    "\n",
    "b) Ermitteln Sie die Schattenpreise und interpretieren Sie diese Werte.\n",
    "\n",
    "c) Schreiben Sie das duale System auf.  \n",
    "\n",
    "d) Was ist die Lösung des dualen Systems?\n",
    "\n",
    "e) Ermitteln Sie die Schattenpreise des dualen Systems.\n",
    "\n",
    "f) Vergleichen Sie beide Lösungen. Welche Zusammenhänge in Bezug auf Dualität können Sie feststellen?\n",
    "\n",
    "g) Prüfen Sie Ihre händischen Lösungen von a) - f) mit dem Python-Programm linprog"
   ]
  },
  {
   "cell_type": "markdown",
   "metadata": {},
   "source": [
    "### Lösung 2 \n",
    "a)\n",
    "Erweiterte Standardform:\n",
    "\n",
    "\\begin{array}{rcl}\n",
    "1000 x_1 + 200 x_2 + 400 x_3 \\rightarrow \\max\\\\\n",
    "x_1 + x_2 + 8 x_3  + s_1 = 250\\\\\n",
    "20 x_1  + 2 x_2 + x_3 + s_2 = 200\\\\\n",
    "x_1, x_2, x_3, s_1, s_2 \\geq 0\n",
    "\\end{array}\n",
    "\n",
    "\\begin{equation}\n",
    "\\begin{array}{c}\n",
    "Z \\\\ \n",
    "s_1 \\\\\n",
    "s_2 \n",
    "\\end{array}\n",
    "\\begin{bmatrix}\n",
    "\\begin{array}{ccccc|c}\n",
    "  x_1 & x_2 & x_3 & s_1 & s_2 & r. S. \\\\ \\hline\n",
    "  -1000 & -200 & -400 & 0 & 0 & 0 \\\\ \\hline\n",
    "  1 & 1 & 8 & 1 & 0 & 250  \\\\\n",
    "  20 & 2 & 1 & 0 & 1 & 200 \\\\\n",
    "\\end{array}\n",
    "\\end{bmatrix}\n",
    "\\end{equation}\n",
    "\n",
    "\\begin{equation}\n",
    "\\begin{array}{c}\n",
    "Z \\\\ \n",
    "s_1 \\\\\n",
    "s_2 \n",
    "\\end{array}\n",
    "\\begin{bmatrix}\n",
    "\\begin{array}{|c|c|ccc|c}\n",
    "  x_1 & x_2 & x_3 & s_1 & s_2 & r. S. \\\\ \\hline\n",
    "  -1000 & -200 & -400 & 0 & 0 & 0 \\\\ \\hline\n",
    "  1 & 1 & 8 & 1 & 0 & 250  \\\\ \\hline\n",
    "  \\mathbf{20} & 2 & 1 & 0 & 1 & 200 \\\\ \\hline\n",
    "\\end{array}\n",
    "\\end{bmatrix}\n",
    "\\end{equation}\n",
    "\n",
    "\\begin{equation}\n",
    "\\begin{array}{c}\n",
    "Z \\\\ \n",
    "s_1 \\\\\n",
    "s_2 \n",
    "\\end{array}\n",
    "\\begin{bmatrix}\n",
    "\\begin{array}{cc|c|cc|c}\n",
    "  x_1 & x_2 & x_3 & s_1 & s_2 & r. S. \\\\ \\hline\n",
    "  0 & -100 & -350 & 0 & 50 & 10000 \\\\ \\hline\n",
    "  0 & 0,9 & \\mathbf{7,95} & 1 & -0,05 & 240  \\\\ \\hline\n",
    "  1 & 0,1 & 0,05 & 0 & 0,05 & 10\n",
    "  \\end{array}\n",
    "\\end{bmatrix}\n",
    "\\end{equation}\n",
    "\n",
    "\\begin{equation}\n",
    "\\begin{array}{c}\n",
    "Z \\\\ \n",
    "s_1 \\\\\n",
    "s_2 \n",
    "\\end{array}\n",
    "\\begin{bmatrix}\n",
    "\\begin{array}{c|c|ccc|c}\n",
    "  x_1 & x_2 & x_3 & s_1 & s_2 & r. S. \\\\ \\hline\n",
    "  0 & -60,38 & 0 & 44,1 & 47,9 & 20566,5 \\\\ \\hline\n",
    "  0 & \\mathbf{0,113} & 1 & 0,126 & -0,06 & 30,19  \\\\ \\hline\n",
    "  1 & 0,094 & 0 & -0,063 & 0,053 & 8,5\n",
    "  \\end{array}\n",
    "\\end{bmatrix}\n",
    "\\end{equation}\n",
    "\n",
    "\\begin{equation}\n",
    "\\begin{array}{c}\n",
    "Z \\\\ \n",
    "s_1 \\\\\n",
    "s_2 \n",
    "\\end{array}\n",
    "\\begin{bmatrix}\n",
    "\\begin{array}{ccccc|c}\n",
    "  x_1 & x_2 & x_3 & s_1 & s_2 & r. S. \\\\ \\hline\n",
    "  640 & 0 & 0 & 40 & 80 & 206000 \\\\ \\hline\n",
    "  -0,113 & 0 & 1 & 0,133 & -0,066 & 20  \\\\ \\hline\n",
    "  10,6 & 1 & 0 & -0,0066 & 0,53 & 90\n",
    "  \\end{array}\n",
    "\\end{bmatrix}\n",
    "\\end{equation}\n",
    "\n",
    "Optimale Lösung ist 26000, wenn wir auf 251 erhöhen ist die optimale Lösung auf 26040 geändert"
   ]
  },
  {
   "cell_type": "markdown",
   "metadata": {},
   "source": []
  },
  {
   "cell_type": "code",
   "execution_count": 11,
   "metadata": {},
   "outputs": [],
   "source": [
    "from scipy.optimize import linprog\n",
    "\n",
    "b = [250, 200]\n",
    "A = [[1, 1, 8], [20, 2, 1]]\n",
    "c = [-1000, -200, -400]"
   ]
  },
  {
   "cell_type": "code",
   "execution_count": 12,
   "metadata": {},
   "outputs": [
    {
     "name": "stdout",
     "output_type": "stream",
     "text": [
      "           con: array([], dtype=float64)\n",
      " crossover_nit: 0\n",
      "         eqlin:  marginals: array([], dtype=float64)\n",
      "  residual: array([], dtype=float64)\n",
      "           fun: -26000.0\n",
      "       ineqlin:  marginals: array([-40., -80.])\n",
      "  residual: array([0., 0.])\n",
      "         lower:  marginals: array([640.,   0.,   0.])\n",
      "  residual: array([ 0., 90., 20.])\n",
      "       message: 'Optimization terminated successfully. (HiGHS Status 7: Optimal)'\n",
      "           nit: 2\n",
      "         slack: array([0., 0.])\n",
      "        status: 0\n",
      "       success: True\n",
      "         upper:  marginals: array([0., 0., 0.])\n",
      "  residual: array([inf, inf, inf])\n",
      "             x: array([ 0., 90., 20.])\n"
     ]
    }
   ],
   "source": [
    "model_linear1 = linprog(c, A, b)\n",
    "print(model_linear1)"
   ]
  },
  {
   "cell_type": "code",
   "execution_count": 13,
   "metadata": {},
   "outputs": [],
   "source": [
    "from scipy.optimize import linprog\n",
    "\n",
    "b = [251, 200]\n",
    "A = [[1, 1, 8], [20, 2, 1]]\n",
    "c = [-1000, -200, -400]"
   ]
  },
  {
   "cell_type": "code",
   "execution_count": 14,
   "metadata": {},
   "outputs": [
    {
     "name": "stdout",
     "output_type": "stream",
     "text": [
      "           con: array([], dtype=float64)\n",
      " crossover_nit: 0\n",
      "         eqlin:  marginals: array([], dtype=float64)\n",
      "  residual: array([], dtype=float64)\n",
      "           fun: -26040.0\n",
      "       ineqlin:  marginals: array([-40., -80.])\n",
      "  residual: array([0., 0.])\n",
      "         lower:  marginals: array([640.,   0.,   0.])\n",
      "  residual: array([ 0.        , 89.93333333, 20.13333333])\n",
      "       message: 'Optimization terminated successfully. (HiGHS Status 7: Optimal)'\n",
      "           nit: 2\n",
      "         slack: array([0., 0.])\n",
      "        status: 0\n",
      "       success: True\n",
      "         upper:  marginals: array([0., 0., 0.])\n",
      "  residual: array([inf, inf, inf])\n",
      "             x: array([ 0.        , 89.93333333, 20.13333333])\n"
     ]
    }
   ],
   "source": [
    "model_linear2 = linprog(c, A, b)\n",
    "print(model_linear2)"
   ]
  },
  {
   "cell_type": "markdown",
   "metadata": {},
   "source": [
    "### Aufgabe 3\n",
    "\t\n",
    "Gegeben ist das folgende Transportproblem (Produktionsstätten $Q_1$, $Q_2$; Verbraucherstätten $S_1$,  $S_2$; [ 2 x 2 ]- Kostenmatrix):"
   ]
  },
  {
   "cell_type": "code",
   "execution_count": 16,
   "metadata": {},
   "outputs": [
    {
     "data": {
      "text/html": [
       "<div>\n",
       "<style scoped>\n",
       "    .dataframe tbody tr th:only-of-type {\n",
       "        vertical-align: middle;\n",
       "    }\n",
       "\n",
       "    .dataframe tbody tr th {\n",
       "        vertical-align: top;\n",
       "    }\n",
       "\n",
       "    .dataframe thead th {\n",
       "        text-align: right;\n",
       "    }\n",
       "</style>\n",
       "<table border=\"1\" class=\"dataframe\">\n",
       "  <thead>\n",
       "    <tr style=\"text-align: right;\">\n",
       "      <th></th>\n",
       "      <th>S1</th>\n",
       "      <th>S2</th>\n",
       "      <th>Angebot</th>\n",
       "    </tr>\n",
       "  </thead>\n",
       "  <tbody>\n",
       "    <tr>\n",
       "      <th>Q1</th>\n",
       "      <td>30</td>\n",
       "      <td>20</td>\n",
       "      <td>10</td>\n",
       "    </tr>\n",
       "    <tr>\n",
       "      <th>Q2</th>\n",
       "      <td>40</td>\n",
       "      <td>25</td>\n",
       "      <td>20</td>\n",
       "    </tr>\n",
       "    <tr>\n",
       "      <th>Nachfrage</th>\n",
       "      <td>15</td>\n",
       "      <td>15</td>\n",
       "      <td>0</td>\n",
       "    </tr>\n",
       "  </tbody>\n",
       "</table>\n",
       "</div>"
      ],
      "text/plain": [
       "           S1  S2  Angebot\n",
       "Q1         30  20       10\n",
       "Q2         40  25       20\n",
       "Nachfrage  15  15        0"
      ]
     },
     "execution_count": 16,
     "metadata": {},
     "output_type": "execute_result"
    }
   ],
   "source": [
    "import pandas as pd\n",
    "import numpy as np\n",
    "row_labels=['Q1','Q2', 'Nachfrage']\n",
    "df = pd.DataFrame(data = np.array([[30,20,10],[40,25,20],[15,15,0]]), columns = ['S1','S2','Angebot'], index=row_labels)\n",
    "df"
   ]
  },
  {
   "cell_type": "markdown",
   "metadata": {},
   "source": [
    "Formulieren Sie das Problem als LP und lösen Sie es durch Dualisierung."
   ]
  },
  {
   "cell_type": "markdown",
   "metadata": {},
   "source": [
    "### Lösung 3\n",
    "ZF:\n",
    "\n",
    "$ 30 x_{1,1} + 20 x_{1,2} + 40 x_{2,1} + 25 x_{2,2} \\rightarrow {min} $ \n",
    "\n",
    "NB:\n",
    "\n",
    "$ x_{1,1} + x_{1,2} = 10 \\\\\n",
    "x_{2,1} + x_{2,2} = 20 \\\\\n",
    "x_{1,1} + x_{2,1} = 15 \\\\\n",
    "x_{1,2} + x_{2,2} = 15 \\\\\n",
    "$"
   ]
  },
  {
   "cell_type": "markdown",
   "metadata": {},
   "source": [
    "$$Primales Problem$$\n",
    "$$  \n",
    "\\quad  \\begin{pmatrix} \n",
    "       30 & 20 & 40 & 25\n",
    "        \\end{pmatrix} y \\rightarrow {min},  \\\\ \\\\\n",
    "      \\begin{pmatrix} \n",
    "         1 & 1 & 0 & 0 \\\\\n",
    "        -1 & -1 & 0 & 0 \\\\\n",
    "        0 & 0 & 1 & 1 \\\\\n",
    "        0 & 0 & -1 & -1 \\\\\n",
    "        1 & 0 & 1 & 0 \\\\\n",
    "        -1 & 0 & -1 & 0 \\\\\n",
    "        0 & 1 & 0 & 1 \\\\\n",
    "        0 & -1 & 0 & -1 \\\\\n",
    "        \\end{pmatrix} x \\geq \\begin{pmatrix} \n",
    "        10 \\\\\n",
    "       -10 \\\\\n",
    "       20 \\\\\n",
    "       -20 \\\\\n",
    "       15 \\\\\n",
    "       -15 \\\\\n",
    "       15 \\\\\n",
    "       -15 \\\\\n",
    "        \\end{pmatrix}, \\\\\n",
    "        x \\geq 0\n",
    "        $$"
   ]
  },
  {
   "cell_type": "markdown",
   "metadata": {},
   "source": [
    "$$Dualisieren$$\n",
    "$$  \n",
    "\\quad  \\begin{pmatrix} \n",
    "       10 & -10 & 20 & -20 & 15 & -15 & 15 & -15 \n",
    "        \\end{pmatrix} y \\rightarrow {max},  \\\\ \\\\\n",
    "      \\begin{pmatrix} \n",
    "    1 & -1 & 0 & 0 & 1 & -1 & 0 & 0 \\\\\n",
    "    1 & -1 & 0 & 0 & 0 & 0 & 1 & -1 \\\\\n",
    "    0 & 0  & 1 &-1 & 1 &-1 & 0 & 0 \\\\\n",
    "    0 & 0 & 1 & -1 & 0 & 0 & 1 & -1 \\\\\n",
    "        \\end{pmatrix} y \\leq \\begin{pmatrix} \n",
    "       30 \\\\\n",
    "       20 \\\\\n",
    "       40 \\\\\n",
    "       25 \\\\\n",
    "        \\end{pmatrix}, \\\\\n",
    "        y \\geq 0\n",
    "        $$"
   ]
  },
  {
   "cell_type": "markdown",
   "metadata": {},
   "source": [
    "$$Simplex$$\n",
    "\n",
    "|   | x1  | x2 | x3 | x4 | x5 | x6 | x7 | x8 | x9|x10|x11|x12| b |\n",
    "|---|-----|----|----|----|----|----|----|----|---|---|---|---|---| \n",
    "| Z | 10 | -10| 20 | -20| 15 | -15| 15 | -15| 0 | 0 | 0 | 0 |  0 |\n",
    "| N1| 1   | -1 | 0  | 0  | 1  | -1 | 0  | 0  | 1 | 0 | 0 | 0 | 30 |\n",
    "| N2| 1   | -1 | 0  | 0  | 0  | 0  | 1  | -1 | 0 | 1 | 0 | 0 | 20 |\n",
    "| N3| 0   | 0  | 1  | -1 | 1  | -1 |  0 | 0  | 0 | 0 | 1 | 0 | 40 |\n",
    "| N4| 0   | 0  | 1  | -1 | 0  | 0  | 1  | -1 | 0 | 0 | 0 | 1 | 25|"
   ]
  },
  {
   "cell_type": "markdown",
   "metadata": {
    "tags": []
   },
   "source": [
    "### Aufgabe 4\n",
    "Lösen Sie das LP-Problem\n",
    "\n",
    "\n",
    "\\begin{array}{rcl}\n",
    "5 x_5 + 2x_4   &\\to& \\max\\\\\n",
    "2x_1 - 4x_2 + 2 x_3 + x_4 - 7x_5  &  = & 18\\\\\n",
    "x_1   -  x_2  -2 x_3 - 5 x_4 + 6 x_5 & = & -19\\\\\n",
    "2x_2   - 4 x_3  -7 x_4 + 13 x_5 & = & -4\\\\\n",
    "x_1, x_2, x_3, x_4,x_5 &\\geq& 0\n",
    "\\end{array} \n",
    "\n",
    "   "
   ]
  },
  {
   "cell_type": "markdown",
   "metadata": {},
   "source": [
    "### Lösung 4\n",
    "$c^Tx \\rightarrow min $\n",
    "\n",
    "$ Ax = b $\n",
    "\n",
    "$ x \\geq 0 $\n",
    "\n",
    "\n",
    "$$ \\begin{pmatrix} \n",
    "\t\t0 & 0 & 0 & 2 & 5  \\\\\n",
    "\t\t\\end{pmatrix} x \\rightarrow max$$\n",
    "$$  \\begin{pmatrix} \n",
    "\t\t2 & -4 & 2 & 1 & -7  \\\\\n",
    "\t\t1 & -1 & -2 & -5 & 6 \\\\\n",
    "\t\t0 & 2 & -4 & -7 & 13 \n",
    "\t\t\\end{pmatrix} \n",
    "         x =  \\begin{pmatrix} \n",
    "\t\t18 \\\\\n",
    "\t\t-19  \\\\\n",
    "\t\t-4  \\\\\n",
    "\\end{pmatrix}$$\n",
    "\t\t\n",
    "\n",
    "\n",
    "$$\\begin{array}{ccccc|c} \\\\ 0 & 0 & 0 & -2 & -5 & 0 \\\\  \\hline 2 & -4 & 2 & 1 & -7 & 18  \\\\  1 & -1 & -2 & -5 & \\textbf{6} & -19\\\\ 0 & 2 & -4 & -7 & 13 & -4\\\\ \\end{array}$$\n",
    "\n",
    "$$\\begin{array}{ccccc|c} \\\\ 5/6 & -5/6 & -10/6 & -37/6 & 0 & -95/6  \\\\ \\hline -19/6 & \\textbf{-31/6} & -2/6 & -29/6 & 0 & -25/6  \\\\ 1/6 & -1/6 & -1/3 & -5/6 & 1 & -19/6\\\\ -13/6 & 25/6 & 2/6 & 23/6 & 0 & 223/6\\\\ \\end{array}$$\n",
    "\n",
    "$$\\begin{array}{ccccc|c} \\\\ 10/31 & 0 & -50/31 & -167/31 & 0 & 470/31  \\\\ \\hline -19/6 & 1 & 2/31 & 29/31 & 0 & 25/31  \\\\ 2/31 & 0 & \\textbf{-10/31} & -21/31 & 1 & -94/31\\\\ 12/31 & 0 & 2/31 & -2/31 & 0 & 1048/31\\\\ \\end{array}$$\n",
    "\n",
    "Das problem ist unbeschränkt "
   ]
  },
  {
   "cell_type": "markdown",
   "metadata": {},
   "source": [
    "### Aufgabe 5\n",
    "\n",
    "Lösen Sie das LP-Problem\n",
    "\n",
    "\\begin{array}{rcl}\n",
    "-2 x_1 - x_2 - 7 x_3   &\\to& \\min\\\\\n",
    "x_1  + 2x_2 + 3 x_3   &  \\leq & 4\\\\\n",
    "- x_1   - 4 x_2 + 10 x_3   &  \\leq & 7\\\\\n",
    "x_1, x_2, x_3 &\\geq& 0\n",
    "\\end{array} "
   ]
  },
  {
   "cell_type": "markdown",
   "metadata": {},
   "source": [
    "### Lösung 5\n",
    "$$ -2 x_1 - x_2 - 7 x_3 \\rightarrow min $$\n",
    "$$x_1  + 2x_2 + 3x_3  + s_1 = 4 $$\n",
    "$$ -x_1  - 4 x_2 + 10 x_3  + s_2  = 7$$\n",
    "\n",
    "\n",
    "$c^Tx \\rightarrow min $\n",
    "\n",
    "$ Ax = b $\n",
    "\n",
    "$ x \\geq 0 $\n",
    "\n",
    "\n",
    "\n",
    "$$\\begin{array}{ccccc|c} \\\\ 2 & 1 & 7 & 0 & 0 & 0 \\\\  \\hline 1 & 2 & \\textbf{3} & 1 & 0 & 4  \\\\  -1 & -4 & 10 & 0 & 1 & 7\\\\ \\end{array}$$\n",
    "\n",
    "$$\\begin{array}{ccccc|c} \\\\ 2.7 & 3.8 & 0 & 0 & -0.7 & -4.5 \\\\  \\hline 1.3 & 3.2 & 0 & 1 & -0.3 & 1.9  \\\\  -0.1 & -0.4 & 1 & 0 & 0.1 & 0.7\\\\ \\end{array}$$\n",
    "\n",
    "Die optimale minimale Lösung ist: -4.5"
   ]
  },
  {
   "cell_type": "code",
   "execution_count": 15,
   "metadata": {},
   "outputs": [
    {
     "name": "stdout",
     "output_type": "stream",
     "text": [
      "           con: array([], dtype=float64)\n",
      " crossover_nit: 0\n",
      "         eqlin:  marginals: array([], dtype=float64)\n",
      "  residual: array([], dtype=float64)\n",
      "           fun: 0.0\n",
      "       ineqlin:  marginals: array([-0.        , -5.33333333, -1.66666667, -0.        , -0.        ])\n",
      "  residual: array([0., 0., 0., 2., 5.])\n",
      "         lower:  marginals: array([ 0.        , 27.66666667,  0.        ])\n",
      "  residual: array([-0.,  0., -0.])\n",
      "       message: 'Optimization terminated successfully. (HiGHS Status 7: Optimal)'\n",
      "           nit: 3\n",
      "         slack: array([0., 0., 0., 2., 5.])\n",
      "        status: 0\n",
      "       success: True\n",
      "         upper:  marginals: array([0., 0., 0.])\n",
      "  residual: array([inf, inf, inf])\n",
      "             x: array([-0.,  0., -0.])\n"
     ]
    }
   ],
   "source": [
    "from scipy.optimize import linprog\n",
    "\n",
    "b = [0, 0, 0, 2, 5]\n",
    "A = [[-2, -1, 0], [4, 1, -2], [-2, 2, 4], [-1, 5, 7], [7,6,13]]\n",
    "c = [-18, 19, 4]\n",
    "\n",
    "model_linear3 = linprog(c, A, b)\n",
    "print(model_linear3)\n"
   ]
  },
  {
   "cell_type": "code",
   "execution_count": null,
   "metadata": {},
   "outputs": [],
   "source": []
  },
  {
   "cell_type": "code",
   "execution_count": null,
   "metadata": {},
   "outputs": [],
   "source": []
  }
 ],
 "metadata": {
  "kernelspec": {
   "display_name": "Python 3 (ipykernel)",
   "language": "python",
   "name": "python3"
  },
  "language_info": {
   "codemirror_mode": {
    "name": "ipython",
    "version": 3
   },
   "file_extension": ".py",
   "mimetype": "text/x-python",
   "name": "python",
   "nbconvert_exporter": "python",
   "pygments_lexer": "ipython3",
   "version": "3.9.13"
  }
 },
 "nbformat": 4,
 "nbformat_minor": 4
}

{
 "cells": [
  {
   "cell_type": "markdown",
   "metadata": {},
   "source": [
    "# Aufgabenblatt 6\n"
   ]
  },
  {
   "cell_type": "markdown",
   "metadata": {},
   "source": [
    "\n",
    "## Nichtlineare Optimierung - 2\n",
    "\n"
   ]
  },
  {
   "cell_type": "markdown",
   "metadata": {},
   "source": [
    "### Aufgabe 1.\n",
    "\n",
    "Lösen Sie folgendes Problem mit der Polytop-Methode (Nelder & Mead)\n",
    "\n",
    "$$ 5 x_1^2 + 5 x_2^2 − 11 x_1 + 11 x_2 +11 \\to \\text{min} $$ \n",
    "\n",
    "Verwenden Sie dabei die Parameter $\\alpha = 1, \\beta= 2, \\gamma = 1/2$ und die Startvektoren $ x=(5,0), y = (0,5), z = (5,5)$.\n",
    "\n"
   ]
  },
  {
   "cell_type": "markdown",
   "metadata": {},
   "source": [
    "$$\n",
    "c = \\frac{1}{2}(x+y) \\\\\n",
    "c = \\begin{pmatrix} \n",
    "\t\t2,5  \\\\\n",
    "\t\t2,5 \\\\\n",
    "\t\t\\end{pmatrix} \\\\\n",
    "c + (c-z) \\\\\n",
    "sichergestellt: \\\\\n",
    "F(x) \\leq F(y) \\leq F(z) \\\\\n",
    "r = c + \\alpha(c - z)=  \\\\\n",
    "\\begin{pmatrix} \n",
    "\t\t2,5  \\\\\n",
    "\t\t2,5 \\\\\n",
    "\t\t\\end{pmatrix} + 1 \\begin{pmatrix} \n",
    "\t\t-2,5  \\\\\n",
    "\t\t-2,5 \\\\\n",
    "\t\t\\end{pmatrix} \\\\\n",
    "        = \\begin{pmatrix} \n",
    "\t\t0  \\\\\n",
    "\t\t0 \\\\\n",
    "\t\t\\end{pmatrix} \\\\\n",
    "$$    \n",
    "$$\n",
    "\\Rightarrow \n",
    "e = c + \\beta (r-c), \\\\\n",
    "\\beta > 1 \\\\\n",
    "e = \\begin{pmatrix} \n",
    "\t\t2,5  \\\\\n",
    "\t\t2,5 \\\\\n",
    "\t\t\\end{pmatrix} + 2\\begin{pmatrix} \n",
    "\t\t-2,5 \\\\\n",
    "\t\t-2,5 \\\\\n",
    "\t\t\\end{pmatrix} = \\\\\n",
    "        \\begin{pmatrix} \n",
    "\t\t-2,5  \\\\\n",
    "\t\t-2,5 \\\\\n",
    "\t\t\\end{pmatrix}\n",
    "$$\n",
    "$$\n",
    "v = c + \\gamma(r-c), \\\\\n",
    "\\gamma < 1 \\\\\n",
    "v = \\begin{pmatrix} \n",
    "\t\t2,5  \\\\\n",
    "\t\t2,5 \\\\\n",
    "\t\t\\end{pmatrix} + \\frac{1}{2} \\begin{pmatrix} \n",
    "\t\t-2,5  \\\\\n",
    "\t\t-2,5 \\\\\n",
    "\t\t\\end{pmatrix} = \\\\\n",
    "        \\begin{pmatrix} \n",
    "\t\t\\frac{5}{4}  \\\\\n",
    "\t\t\\frac{5}{4}  \\\\\n",
    "\t\t\\end{pmatrix}\n",
    "$$\n"
   ]
  },
  {
   "cell_type": "markdown",
   "metadata": {},
   "source": [
    "### Aufgabe 2.\n",
    "\n",
    "a) Stellen Sie fest, ob an den Punkten $(0,0)$ und $(0,1)$ die Karush-Kuhn-Tucker Bedingungen für das folgende nichtlineare Optimierungsproblem erfüllen:\n",
    "\n",
    "$$ (x_1-1)^2 + x_2^2 \\to  \\text{max!} $$\n",
    "$$ x_1 \\leq  1$$\n",
    "$$ x_2 \\geq  1$$\n",
    "$$ x_2  - x_1 \\geq 1$$\n",
    "\n",
    "b) Zeichnen Sie eine ausführliche Skizze für das Problem (zulässiger Bereich, Niveaulinien der Zielfunktion,...)\n",
    "\n",
    "c) Bestimmen Sie bei beiden Punkten die Menge der zulässigen Richtungen und die Menge der verbessernden Richtungen und tragen Sie diese in die Skizzen ein.\n"
   ]
  },
  {
   "cell_type": "markdown",
   "metadata": {},
   "source": [
    "### Aufgabe 3.\n",
    "Gegeben sei das folgende nichtlineare Optimierungsproblem:\n",
    "\n",
    "$$ - (x_1-x_2)^2  \\to  \\text{min!} $$\n",
    "$$ x_1^2 + x_2^2 \\leq  1$$\n",
    "$$ x_1 + x_2 \\leq  -1$$\n",
    "\n",
    "a) Zeichnen Sie eine ausführliche Skizze für das Problem (zulässiger Bereich, Niveaulinien der Zielfunktion, optimale Lösung).\n",
    "\n",
    "b) Erstellen Sie die dazugehörigen Karush-Kuhn-Tucker Bedingungen.\n",
    "\n",
    "c) Lösen Sie das Problem mit Hilfe der in b) erstellten KKT Bedingungen.\n",
    "\n"
   ]
  },
  {
   "cell_type": "markdown",
   "metadata": {},
   "source": [
    "### Aufgabe 4. \n",
    "\n",
    "Gegeben sei eine Produktionsfunktion $ f(x,y) = x^{2/3}y^{1/3}$ und dazu eine Budgetbeschränkung $x + y=4000$.\n",
    "\n",
    "a) Für welche Werte $x$ und $y$ ergibt sich ein Produktionsmaximum? \n",
    "\n",
    "b) Was ist der maximale Produktionswert? \n",
    "\n",
    "c) Bestimmen Sie die Lösungen mithilfe des Verfahrens der Lagrange‘schen Multiplikatoren.\n"
   ]
  },
  {
   "cell_type": "markdown",
   "metadata": {},
   "source": [
    "$$ f(x,y) = x^{2/3}y^{1/3} \\\\\n",
    "NB: x+y=4000\n",
    "h_1(x, y) = 0 \\Rightarrow h_1(x, y) = x+y -4000$$\n",
    "Wir bilden die Lagrange Funktion:\n",
    "$$ L(x, y, v) = f(x, y) + vh_1(x, y) = x^{2/3}y^{1/3} + v(x+y-4000)\\\\\n",
    "$$\n",
    "Die Gradienten muessen wir gleich 0 setzen.\n",
    "$$ \\nabla L(x, y, v) = (\\frac{2}{3}x^{\\frac{1}{3}}y^{\\frac{1}{3}} + v, \\frac{1}{3}x^{\\frac{2}{3}}y^{\\frac{2}{3}} + v, x + y -4000)$$\n",
    "\n",
    "\n",
    "Wir loesen das Gleichungssystem und bekommen x und y, sowie potentieller Kandidat fuer das Optimum"
   ]
  }
 ],
 "metadata": {
  "kernelspec": {
   "display_name": "Python 3",
   "language": "python",
   "name": "python3"
  },
  "language_info": {
   "codemirror_mode": {
    "name": "ipython",
    "version": 3
   },
   "file_extension": ".py",
   "mimetype": "text/x-python",
   "name": "python",
   "nbconvert_exporter": "python",
   "pygments_lexer": "ipython3",
   "version": "3.8.5"
  }
 },
 "nbformat": 4,
 "nbformat_minor": 2
}

{
 "cells": [
  {
   "cell_type": "markdown",
   "metadata": {},
   "source": [
    "# Aufgabenblatt 1"
   ]
  },
  {
   "cell_type": "markdown",
   "metadata": {},
   "source": [
    "## Optimierung - Problemformulierung "
   ]
  },
  {
   "cell_type": "code",
   "execution_count": 1,
   "metadata": {},
   "outputs": [],
   "source": [
    "import numpy as np\n",
    "from matplotlib import pyplot as plt"
   ]
  },
  {
   "cell_type": "markdown",
   "metadata": {},
   "source": [
    "### Aufgabe 1"
   ]
  },
  {
   "cell_type": "markdown",
   "metadata": {},
   "source": [
    "Klassifizieren Sie die folgenden Optimierungsprobleme in kombinatorische, ganzzahlige, kontinuierliche und dynamische. Beschreiben Sie jeweils die Zielfunktion und die Nebenbedingungen (informale Beschreibung genügt):\n",
    " \n",
    "a) Ermittlung der günstigsten Zugsverbindung von Wien nach Krems ab einem gewissen Reiseantritts-Zeitpunkt."
   ]
  },
  {
   "cell_type": "markdown",
   "metadata": {},
   "source": [
    "$$S - zulässige Lösungen \\\\\n",
    "f: S\\rightarrow R $$\n",
    "Gesucht: $ x \\in S $, sodass f(x) minimal/maximal ist\n",
    "\n",
    "Beim kombinatorischen Optimierungsprobleme: S ist abzählbar\n",
    "\n",
    "Beim ganzzahligen: die Variablen $\\in Z$"
   ]
  },
  {
   "cell_type": "markdown",
   "metadata": {},
   "source": [
    "b) Auf einem Schaltbrett sind an verschiedenen Positionen acht Schalteinheiten angebracht. Die neunte Schalteinheit will man so anbringen, dass die Summe ihrer Abstände zu den anderen Schalteinheiten minimal wird."
   ]
  },
  {
   "cell_type": "markdown",
   "metadata": {},
   "source": [
    "c) Eine Notfallstation soll so gebaut werden, dass sie aus allen Orten einer Region\n",
    "in kürzester Zeit erreicht werden kann."
   ]
  },
  {
   "cell_type": "markdown",
   "metadata": {},
   "source": [
    "d) Ein Bäcker in Wien verkauft verschiedene Produkte. Wie findet er den optimalen Produktionsplan ?"
   ]
  },
  {
   "cell_type": "markdown",
   "metadata": {},
   "source": [
    "e) Sie möchten Ihre Wohnung renovieren. Hier sind 5 Tätigkeiten notwendig, die Sie entweder alleine oder mithilfe eine Firma  durchführen können."
   ]
  },
  {
   "cell_type": "markdown",
   "metadata": {},
   "source": [
    "f) Lisa möchte beim Einkaufen 12 Geschäfte durchschauen. In welcher Reihenfolge muss sie sie aufsuchen?  "
   ]
  },
  {
   "cell_type": "markdown",
   "metadata": {},
   "source": [
    "g) Ermittlung eines optimalen Schachzugs bei gegebener Stellung."
   ]
  },
  {
   "cell_type": "markdown",
   "metadata": {},
   "source": [
    "h) Sie fahren auf Urlaub und entscheiden, welche Sachen Sie mitnehmen. "
   ]
  },
  {
   "cell_type": "markdown",
   "metadata": {},
   "source": [
    "i) Ermittlung eines optimalen Billiard-Stoßes bei gegebener Lage der Kugel."
   ]
  },
  {
   "cell_type": "markdown",
   "metadata": {},
   "source": [
    "j) Sahara-Durchquerung mit dem Auto. Wieviele Reservereifen soll man mitnehmen?"
   ]
  },
  {
   "cell_type": "markdown",
   "metadata": {},
   "source": [
    "k) Eine Firma hat ein bestimmtes Budget für Inseratenwerbung vorgesehen. Sie kann in drei Tageszeitungen A, B, C inserieren. Für jede der drei Zeitungen liegen Schätzungen der Umsatzsteigerung der Firma im Fall von $1, 2, 3, \\dots$ Inseraten vor. "
   ]
  },
  {
   "cell_type": "markdown",
   "metadata": {},
   "source": [
    "### Aufgabe 2\n",
    "\n",
    "Mit welchen Optimierungsproblemen sind Sie im täglichen Leben konfrontiert ? Formulieren Sie mindestens 3 Probleme.   \n"
   ]
  },
  {
   "cell_type": "markdown",
   "metadata": {},
   "source": [
    "### Aufgabe 3\n",
    "\n",
    " a) Formulieren Sie ein Optimierungsproblem, das zwar zulässige Lösungen besitzt, aber keine optimale Lösung."
   ]
  },
  {
   "cell_type": "markdown",
   "metadata": {},
   "source": [
    " b) Formulieren Sie ein lineares Problem mit zulässiger Menge $S=\\mathbb R^2$, das mehr als eine Lösung hat.\n",
    " "
   ]
  },
  {
   "cell_type": "markdown",
   "metadata": {},
   "source": [
    "### Aufgabe 4\n",
    "\n",
    "Entwerfen Sie einen Algorithmus zur Bestimmung einer Näherungslösung (d.h. einer möglichst guten, wenn auch nicht unbedingt optimalen Lösung)  für das Problem 1 (c)."
   ]
  },
  {
   "cell_type": "markdown",
   "metadata": {},
   "source": [
    "### Aufgabe 5\n",
    "\n",
    "Lösen Sie graphisch:\n",
    "\n",
    "$ 3 x + y  \\rightarrow   \\text{max}$\n",
    "\n",
    "$2x + y  \\geq   2 , \\quad 3x + 4y   \\leq  12 ,  \\quad   x \\leq   3,   \\quad  x, \\, y  \\geq  0 $\n",
    "\n",
    "Anleitung: Man ermittle graphisch die zulässige Menge S in der $(x,y)$ - Ebene, und zeichne die Geraden   $ 3 \\, x  + y = c$ (ZF = konstant) für einige Werte $c$.\n"
   ]
  },
  {
   "cell_type": "code",
   "execution_count": 2,
   "metadata": {},
   "outputs": [],
   "source": [
    "def drawArrow(maxX, maxY, c):\n",
    "    plt.arrow(0, 0, c[0], c[1], head_width = 0.2, fc='k')"
   ]
  },
  {
   "cell_type": "code",
   "execution_count": 4,
   "metadata": {},
   "outputs": [],
   "source": [
    "def drawLines(maxX, maxY, c):\n",
    "    delta = 1\n",
    "    x = np.arange(0, maxX, delta)\n",
    "    y = np.arange(0, maxY, delta)\n",
    "    X, Y = np.meshgrid(x, y)\n",
    "    Z = c[0]*X + c[1]*Y\n",
    "    CS = plt.contour(X, Y, Z, levels = np.linspace(0, 30, 10), cmap = 'coolwarm')\n",
    "    plt.clabel(CS, inline=1, fontsize = 12, fmt = '%1.1f')"
   ]
  },
  {
   "cell_type": "code",
   "execution_count": 5,
   "metadata": {},
   "outputs": [],
   "source": [
    "def fillRectangle(ax, x, y, width, height):\n",
    "    ax.add_patch(plt.Rectangle((x,y), width, height, facecolor =\"green\", alpha = 0.3))"
   ]
  },
  {
   "cell_type": "code",
   "execution_count": 11,
   "metadata": {},
   "outputs": [],
   "source": [
    "def drawInequality(inequality, ax, maxX, maxY):\n",
    "    delta = 0.1\n",
    "    x = np.arange(0, maxX, delta)\n",
    "    y = np.arange(0, maxY, delta)\n",
    "    for xi in x:\n",
    "        for yi in y:\n",
    "            if inequality(xi, yi):\n",
    "                fillRectangle(ax, xi, yi, delta, delta)"
   ]
  },
  {
   "cell_type": "code",
   "execution_count": 7,
   "metadata": {},
   "outputs": [],
   "source": [
    "def finishPlot(maxX, maxY):\n",
    "    plt.xlim(0, maxX)\n",
    "    plt.ylim(0, maxY)\n",
    "    plt.xlabel('$x$')\n",
    "    plt.ylabel('$Y$')\n",
    "    plt.grid(True)\n",
    "    plt.show()    "
   ]
  },
  {
   "cell_type": "code",
   "execution_count": 14,
   "metadata": {},
   "outputs": [
    {
     "data": {
      "image/png": "[encoded data removed]",
      "text/plain": [
       "<Figure size 432x432 with 1 Axes>"
      ]
     },
     "metadata": {
      "needs_background": "light"
     },
     "output_type": "display_data"
    }
   ],
   "source": [
    "maxX = 12\n",
    "maxY = 12\n",
    "\n",
    "c = np.array([2, 3])\n",
    "fig = plt.figure(figsize = (6, 6))\n",
    "ax = fig.add_subplot(1, 1, 1)\n",
    "\n",
    "drawArrow(maxX, maxY, c)\n",
    "drawLines(maxX, maxY, c)\n",
    "\n",
    "inequality = lambda x, y: x - y <= 1\n",
    "inequality2 = lambda x, y: 2*x + 4*y <= 15\n",
    "drawInequality(inequality, ax, maxX, maxY)\n",
    "drawInequality(inequality2, ax, maxX, maxY)\n",
    "finishPlot(maxX, maxY)"
   ]
  }
 ],
 "metadata": {
  "kernelspec": {
   "display_name": "Python 3",
   "language": "python",
   "name": "python3"
  },
  "language_info": {
   "codemirror_mode": {
    "name": "ipython",
    "version": 3
   },
   "file_extension": ".py",
   "mimetype": "text/x-python",
   "name": "python",
   "nbconvert_exporter": "python",
   "pygments_lexer": "ipython3",
   "version": "3.8.5"
  }
 },
 "nbformat": 4,
 "nbformat_minor": 2
}

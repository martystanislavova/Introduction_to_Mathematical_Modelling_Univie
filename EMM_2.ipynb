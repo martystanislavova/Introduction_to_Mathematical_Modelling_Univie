{
 "cells": [
  {
   "cell_type": "markdown",
   "metadata": {},
   "source": [
    "# Aufgabenblatt 2"
   ]
  },
  {
   "cell_type": "markdown",
   "metadata": {},
   "source": [
    "## Lineare Optimierung - 1"
   ]
  },
  {
   "cell_type": "code",
   "execution_count": 2,
   "metadata": {},
   "outputs": [],
   "source": [
    "import numpy as np\n",
    "from matplotlib import pyplot as plt"
   ]
  },
  {
   "cell_type": "markdown",
   "metadata": {},
   "source": [
    "### Aufgabe 1\n",
    "\n",
    "Lösen Sie graphisch:\n",
    "\n",
    "$ x + y  \\rightarrow    \\text{max}$\n",
    "\n",
    "$3x + y\\leq 8,\\quad y + z \\leq 5,\\quad x + 2z = 2, \\quad x, y, z \\geq 0$\n",
    "\n",
    "Anleitung:  Man  drücke $z$ durch $x$ aus und formuliere die Bedingung $ z \\geq 0 $ in eine Bedingung an $x$ um. "
   ]
  },
  {
   "cell_type": "markdown",
   "metadata": {},
   "source": [
    "$z = \\frac{2-x}{2} \\geq 0 \\\\\n",
    "\\Rightarrow x\\leq 2, \\quad y + \\frac{2-x}{2} \\leq 5 \\\\\n",
    "\\Rightarrow 2y - x \\leq 8$"
   ]
  },
  {
   "cell_type": "code",
   "execution_count": 3,
   "metadata": {},
   "outputs": [],
   "source": [
    "def drawArrow(maxX, maxY, c):\n",
    "    plt.arrow(0, 0, c[0], c[1], head_width = 0.2, fc='k')"
   ]
  },
  {
   "cell_type": "code",
   "execution_count": 4,
   "metadata": {},
   "outputs": [],
   "source": [
    "def drawLines(maxX, maxY, c):\n",
    "    delta = 1\n",
    "    x = np.arange(0, maxX, delta)\n",
    "    y = np.arange(0, maxY, delta)\n",
    "    X, Y = np.meshgrid(x, y)\n",
    "    Z = c[0]*X + c[1]*Y\n",
    "    CS = plt.contour(X, Y, Z, levels = np.linspace(0, 30, 10), cmap = 'coolwarm')\n",
    "    plt.clabel(CS, inline=1, fontsize = 12, fmt = '%1.1f')"
   ]
  },
  {
   "cell_type": "code",
   "execution_count": 5,
   "metadata": {},
   "outputs": [],
   "source": [
    "def fillRectangle(ax, x, y, width, height):\n",
    "    ax.add_patch(plt.Rectangle((x,y), width, height, facecolor =\"green\", alpha = 0.3))"
   ]
  },
  {
   "cell_type": "code",
   "execution_count": 6,
   "metadata": {},
   "outputs": [],
   "source": [
    "def drawInequality(inequality, ax, maxX, maxY):\n",
    "    delta = 0.1\n",
    "    x = np.arange(0, maxX, delta)\n",
    "    y = np.arange(0, maxY, delta)\n",
    "    for xi in x:\n",
    "        for yi in y:\n",
    "            if inequality(xi, yi):\n",
    "                fillRectangle(ax, xi, yi, delta, delta)"
   ]
  },
  {
   "cell_type": "code",
   "execution_count": 7,
   "metadata": {},
   "outputs": [],
   "source": [
    "def finishPlot(maxX, maxY):\n",
    "    plt.xlim(0, maxX)\n",
    "    plt.ylim(0, maxY)\n",
    "    plt.xlabel('$x$')\n",
    "    plt.ylabel('$Y$')\n",
    "    plt.grid(True)\n",
    "    plt.show()    "
   ]
  },
  {
   "cell_type": "code",
   "execution_count": 9,
   "metadata": {},
   "outputs": [
    {
     "data": {
      "image/png": "[encoded data removed]",
      "text/plain": [
       "<Figure size 432x432 with 1 Axes>"
      ]
     },
     "metadata": {
      "needs_background": "light"
     },
     "output_type": "display_data"
    }
   ],
   "source": [
    "maxX = 12\n",
    "maxY = 12\n",
    "\n",
    "c = np.array([1, 1])\n",
    "fig = plt.figure(figsize = (6, 6))\n",
    "ax = fig.add_subplot(1, 1, 1)\n",
    "\n",
    "drawArrow(maxX, maxY, c)\n",
    "drawLines(maxX, maxY, c)\n",
    "\n",
    "inequality = lambda x, y: 3*x + y <= 8\n",
    "inequality2 = lambda x, y: -x + 2*y <= 8\n",
    "drawInequality(inequality, ax, maxX, maxY)\n",
    "drawInequality(inequality2, ax, maxX, maxY)\n",
    "finishPlot(maxX, maxY)"
   ]
  },
  {
   "cell_type": "markdown",
   "metadata": {},
   "source": [
    "### Aufgabe 2\n",
    "\n",
    "Man bestimme alle Basislösungen von $A \\, x  =  b, \\, x \\geq 0 $ mit \n",
    "\n",
    "$$  A=  \\begin{pmatrix} \n",
    "3 & 4 & - 1  \\\\\n",
    "2 & 3& 0  \\\\\n",
    "\\end{pmatrix}, \\quad b =  \\begin{pmatrix} \n",
    "2  \\\\\n",
    "5  \\\\\n",
    "\\end{pmatrix}. $$\n",
    "\n",
    "Welche der Basislösungen sind zulässig?\n"
   ]
  },
  {
   "cell_type": "markdown",
   "metadata": {},
   "source": [
    "$$ Ax = b, \\quad A=  \\begin{pmatrix} \n",
    "3 & 4 & - 1  \\\\\n",
    "2 & 3& 0  \\\\\n",
    "\\end{pmatrix} \\begin{pmatrix} \n",
    "x_1  \\\\\n",
    "x_2  \\\\\n",
    "x_3 \\\\\n",
    "\\end{pmatrix} = \\begin{pmatrix} \n",
    "2  \\\\\n",
    "5  \\\\\n",
    "\\end{pmatrix} $$\n",
    "\n",
    "Spalten > Zeilen $\\Rightarrow$ mehrere Loesungen sind moeglich\n",
    "\n",
    "Indexmenge {1, 2, 3}, mit den Teilmengen {1, 2}, {1, 3}, {2, 3}\n",
    "\n",
    "Zuerst fangen wir mit der Teilmenge {1, 2} an $\\Rightarrow x_1$ und $x_2$ sind Basisvariablen, alle andere Variablen(in diesem Fall $x_3$ werden gleich 0 gesetzt. \n",
    "$$ A=  \\begin{pmatrix} \n",
    "3 & 4 & - 1  \\\\\n",
    "2 & 3& 0  \\\\\n",
    "\\end{pmatrix} \\begin{pmatrix} \n",
    "x_1  \\\\\n",
    "x_2  \\\\\n",
    "0 \\\\\n",
    "\\end{pmatrix} = \\begin{pmatrix} \n",
    "2  \\\\\n",
    "5  \\\\\n",
    "\\end{pmatrix} \\\\\n",
    "\\Rightarrow A=  \\begin{pmatrix} \n",
    "3 & 4  \\\\\n",
    "2 & 3 \\\\\n",
    "\\end{pmatrix} \\begin{pmatrix} \n",
    "x_1  \\\\\n",
    "x_2  \\\\\n",
    "\\end{pmatrix} = \\begin{pmatrix} \n",
    "2  \\\\\n",
    "5  \\\\\n",
    "\\end{pmatrix} $$\n",
    "Loesen wir mit Gauss und bekommen wir: $x_1 = -14, x_2 = 11$\n",
    "\n",
    "$$ x = \\begin{pmatrix} \n",
    "x_1  \\\\\n",
    "x_2  \\\\\n",
    "x_3 \\\\\n",
    "\\end{pmatrix} = \\begin{pmatrix} \n",
    "-14  \\\\\n",
    "11  \\\\\n",
    "0 \\\\\n",
    "\\end{pmatrix}$$\n",
    "Aber die Loesung erfuellt die Bedingung $x \\geq 0$ nicht $\\Rightarrow$ ist nicht zulaessig\n",
    "\n",
    "Nehmen wir die Teilmenge {1, 3}\n",
    "\n",
    "$$A=  \\begin{pmatrix} \n",
    "3 & -1  \\\\\n",
    "2 & 0 \\\\\n",
    "\\end{pmatrix} \\begin{pmatrix} \n",
    "x_1  \\\\\n",
    "x_3  \\\\\n",
    "\\end{pmatrix} = \\begin{pmatrix} \n",
    "2  \\\\\n",
    "5  \\\\\n",
    "\\end{pmatrix} \\\\\n",
    "\\Rightarrow x_1 = \\frac{5}{2}, \\quad x_3 = \\frac{11}{2} \\\\\n",
    "x = \\begin{pmatrix} \n",
    "x_1  \\\\\n",
    "x_2  \\\\\n",
    "x_3 \\\\\n",
    "\\end{pmatrix} = \\begin{pmatrix} \n",
    "\\frac{5}{2}  \\\\\n",
    "0  \\\\\n",
    "\\frac{11}{2} \\\\\n",
    "\\end{pmatrix}$$ \n",
    "\n",
    "alle Eintraege sind $\\geq 0 \\Rightarrow$ alle Bedingungen sind erfuellt und diese Basisloesung ist zulaessig \n",
    "\n",
    "Nehmen wir zum Schluss die Teilmenge {2, 3}\n",
    "\n",
    "$$A=  \\begin{pmatrix} \n",
    "4 & -1  \\\\\n",
    "3 & 0 \\\\\n",
    "\\end{pmatrix} \\begin{pmatrix} \n",
    "x_2  \\\\\n",
    "x_3  \\\\\n",
    "\\end{pmatrix} = \\begin{pmatrix} \n",
    "2  \\\\\n",
    "5  \\\\\n",
    "\\end{pmatrix} \\\\\n",
    "\\Rightarrow x_2 = \\frac{5}{3}, \\quad x_3 = \\frac{14}{3}\\\\\n",
    "x = \\begin{pmatrix} \n",
    "x_1  \\\\\n",
    "x_2  \\\\\n",
    "x_3 \\\\\n",
    "\\end{pmatrix} = \\begin{pmatrix} \n",
    "0  \\\\\n",
    "\\frac{5}{3}  \\\\\n",
    "\\frac{14}{3} \\\\\n",
    "\\end{pmatrix}$$\n",
    "alle Eintraege sind $\\geq 0 \\Rightarrow$ alle Bedingungen sind erfuellt und diese Basisloesung ist zulaessig \n"
   ]
  },
  {
   "cell_type": "markdown",
   "metadata": {},
   "source": [
    "### Aufgabe 3.\n",
    " Der zulässige  Bereich wird durch folgende Ungleichungen definiert\n",
    "\t\t$$x_1 + x_2 + 2 \\, x_3   \\leq 8 $$\n",
    "\t\t$$  x_2 + 6 \\, x_3   \\leq  12  $$\n",
    "\t\t$$ x_1    \\leq 4 $$\n",
    "\t\t$$ x_2   \\leq  6 $$\n",
    "\t\t$$x_1 ,  \\,x_2 , \\, x_3   \\geq 0$$\n",
    "\t\t\n",
    "Welche von den  Ecken  $A=(2,6,0)$,  $B=(4,0,2)$  sind  degeneriert?\n",
    "Welche Basen gehören zu diesen Ecken?"
   ]
  },
  {
   "cell_type": "markdown",
   "metadata": {},
   "source": [
    "mit hilfe von Schlupfvariablen bringen wir die Gleichungen in erweiterte Standardform\n",
    "$$x_1 + x_2 + 2x_3 + x_4 = 8 \\\\\n",
    "x_2 + 6x_3 + x_5 = 12 \\\\\n",
    "x_1 + x_6 = 4 \\\\\n",
    "x_2 + x_7 = 6 \\\\\n",
    "x_1, x_2, x_3, x_4, x_5, x_6, x_7 \\geq 0$$\n",
    "Matrixform: $$ \\begin{pmatrix} \n",
    "1 & 1 & 2 & 1 & 0 & 0 & 0  \\\\\n",
    "0 & 1& 6 & 0 & 1 & 0 & 0  \\\\\n",
    "1 & 0 & 0 & 0 & 0 & 1 & 0  \\\\\n",
    "0 & 1& 0 & 0 & 0 & 0 & 1  \\\\\n",
    "\\end{pmatrix}\\begin{pmatrix} \n",
    "x_1  \\\\\n",
    "x_2  \\\\\n",
    "x_3 \\\\\n",
    "x_4 \\\\\n",
    "x_5 \\\\\n",
    "x_6 \\\\\n",
    "x_7 \\\\\n",
    "\\end{pmatrix} = \\begin{pmatrix} \n",
    "8  \\\\\n",
    "12  \\\\\n",
    "4 \\\\\n",
    "6\\\\\n",
    "\\end{pmatrix}, \\quad x\\geq0$$\n",
    "Betrachten wir die Ecke $A=(2,6,0)$\n",
    "\n",
    "Wenn wir in den Gleichungen einsetzen, bekommen wir: $x_4 = 0, \\quad x_5 = 6, \\quad x_6 = 2, \\quad x_7 = 0$\n",
    "$$ \\Rightarrow \\begin{pmatrix} \n",
    "x_1  \\\\\n",
    "x_2  \\\\\n",
    "x_3 \\\\\n",
    "x_4 \\\\\n",
    "x_5 \\\\\n",
    "x_6 \\\\\n",
    "x_7 \\\\\n",
    "\\end{pmatrix}=\\begin{pmatrix} \n",
    "2  \\\\\n",
    "6  \\\\\n",
    "0 \\\\\n",
    "0 \\\\\n",
    "6 \\\\\n",
    "2 \\\\\n",
    "0 \\\\\n",
    "\\end{pmatrix}$$\n",
    "moegliche Basisvariablen sind: $x_1, x_2  \\quad x_1, x_3 \\quad x_1, x_4 \\quad x_1, x_5$ ...\n",
    "\n",
    "$\\Rightarrow$ mindestens eine Basisvariable ist gleich 0 $\\Rightarrow$ die Ecke ist degeneriert\n",
    "\n",
    "Betrachten wir die Ecke $B=(4,0,2)$\n",
    "\n",
    "Wenn wir in den Gleichungen einsetzen, bekommen wir: $x_4 = 0, \\quad x_5 = 0, \\quad x_6 = 0, \\quad x_7 = 6$\n",
    "$$ \\Rightarrow \\begin{pmatrix} \n",
    "x_1  \\\\\n",
    "x_2  \\\\\n",
    "x_3 \\\\\n",
    "x_4 \\\\\n",
    "x_5 \\\\\n",
    "x_6 \\\\\n",
    "x_7 \\\\\n",
    "\\end{pmatrix}=\\begin{pmatrix} \n",
    "4  \\\\\n",
    "0  \\\\\n",
    "2 \\\\\n",
    "0 \\\\\n",
    "0 \\\\\n",
    "0 \\\\\n",
    "6 \\\\\n",
    "\\end{pmatrix}$$\n",
    "moegliche Basisvariablen sind: $x_1, x_2  \\quad x_1, x_3 \\quad x_1, x_4 \\quad x_1, x_5$ ...\n",
    "\n",
    "$\\Rightarrow$ mindestens eine Basisvariable ist gleich 0 $\\Rightarrow$ die Ecke ist degeneriert"
   ]
  },
  {
   "cell_type": "markdown",
   "metadata": {},
   "source": [
    "### Aufgabe 4.\n",
    "Ein Bergbauunternehmen muss wöchentlich 1 kt (Kilotonnne) Kohle der Qualität A, 0.7 kt der Qualität B, 2 kt der Qualität C und  4.5 kt der Qualität D liefern. Die Kosten pro Tag betragen bei Schacht 1 40 Tausend EUR und bei Schacht 2  100 Tausend EUR. Die Förderung je Tag (in kt) ist folgender Tabelle zu entnehmen:"
   ]
  },
  {
   "cell_type": "code",
   "execution_count": 22,
   "metadata": {},
   "outputs": [
    {
     "data": {
      "text/html": [
       "<div>\n",
       "<style scoped>\n",
       "    .dataframe tbody tr th:only-of-type {\n",
       "        vertical-align: middle;\n",
       "    }\n",
       "\n",
       "    .dataframe tbody tr th {\n",
       "        vertical-align: top;\n",
       "    }\n",
       "\n",
       "    .dataframe thead th {\n",
       "        text-align: right;\n",
       "    }\n",
       "</style>\n",
       "<table border=\"1\" class=\"dataframe\">\n",
       "  <thead>\n",
       "    <tr style=\"text-align: right;\">\n",
       "      <th></th>\n",
       "      <th>A</th>\n",
       "      <th>B</th>\n",
       "      <th>C</th>\n",
       "      <th>D</th>\n",
       "    </tr>\n",
       "  </thead>\n",
       "  <tbody>\n",
       "    <tr>\n",
       "      <th>Schacht 1</th>\n",
       "      <td>0.2</td>\n",
       "      <td>0.1</td>\n",
       "      <td>0.2</td>\n",
       "      <td>0.4</td>\n",
       "    </tr>\n",
       "    <tr>\n",
       "      <th>Schacht 2</th>\n",
       "      <td>0.1</td>\n",
       "      <td>0.1</td>\n",
       "      <td>0.5</td>\n",
       "      <td>1.5</td>\n",
       "    </tr>\n",
       "  </tbody>\n",
       "</table>\n",
       "</div>"
      ],
      "text/plain": [
       "             A    B    C    D\n",
       "Schacht 1  0.2  0.1  0.2  0.4\n",
       "Schacht 2  0.1  0.1  0.5  1.5"
      ]
     },
     "execution_count": 22,
     "metadata": {},
     "output_type": "execute_result"
    }
   ],
   "source": [
    "import pandas as pd\n",
    "import numpy as np\n",
    "Schacht_1 =\"Schacht 1\"\n",
    "Schacht_2 =\"Schacht 2\"\n",
    "row_labels=[Schacht_1,Schacht_2]\n",
    "df = pd.DataFrame(data = np.array([[0.2,0.1,0.2,0.4],[0.1,0.1,0.5,1.5]]), columns = ['A','B','C','D'], index=row_labels)\n",
    "df"
   ]
  },
  {
   "cell_type": "markdown",
   "metadata": {},
   "source": [
    "a) Formulieren Sie das zugehörige lineare Optimierungsproblem."
   ]
  },
  {
   "cell_type": "markdown",
   "metadata": {},
   "source": [
    "b) Lösen Sie es auf graphischem Weg."
   ]
  },
  {
   "cell_type": "markdown",
   "metadata": {},
   "source": [
    "c) Bringen Sie es in erweiterte Standardform."
   ]
  },
  {
   "cell_type": "markdown",
   "metadata": {},
   "source": [
    "d) Lösen Sie es mit linprog."
   ]
  },
  {
   "cell_type": "markdown",
   "metadata": {},
   "source": [
    "e) Lösen Sie es mit dem Simplex-Algorithmus"
   ]
  },
  {
   "cell_type": "markdown",
   "metadata": {},
   "source": [
    "f) Ermitteln Sie die Schattenpreise und interpretieren Sie diese Werte."
   ]
  },
  {
   "cell_type": "markdown",
   "metadata": {},
   "source": [
    "### Aufgabe 5. \n",
    "\n",
    "Betrachten Sie das Rucksackproblem: Es sind drei Gegenstände A, B, C\n",
    "mit den Gewichten (10, 10, 5) und den entsprechenden Nutzwerten (100, 50, 150) gegeben. Der Dieb kann nur einen kleinen Teil der Beute in seinem Rucksack, der maximal 20 aushält, abtransportieren und versucht, das Maximum an Nutzwert herauszuschlagen. Welche Gegenstände soll er mitnehmen?"
   ]
  },
  {
   "cell_type": "markdown",
   "metadata": {},
   "source": [
    "Folgendes Optimierungsproblem\n",
    "$$ 100x_1 + 50x_2 + 150x_3  \\rightarrow    \\text{max} \\\\ \n",
    "10x_1 + 10x_2 + 5x_3 \\leq 20\n",
    "$$\n",
    "in erweiterte Standardform:\n",
    "$$100x_1 + 50x_2 + 150x_3  \\rightarrow    \\text{max} \\\\ \n",
    "10x_1 + 10x_2 + 5x_3 + x_4 = 20 \\\\\n",
    "x_1, x_2, x_3, x_4 \\geq 0$$\n",
    "Der Vektor $ c = \\begin{pmatrix} \n",
    "100  \\\\\n",
    "50  \\\\\n",
    "150 \\\\\n",
    "0 \\\\\n",
    "\\end{pmatrix}$ enthaelt die Koeff. der Zielfunktion\n",
    "\n",
    "auf der rechten Seite ist 20 und $A=(10, 10, 5, 1)$ auf der linken Seite\n",
    "\n",
    "mit dem Simplex-Algorithmus bekommen wir $x_1 = 1, \\quad x_2 = 0, \\quad x_3 = 1$"
   ]
  }
 ],
 "metadata": {
  "kernelspec": {
   "display_name": "Python 3",
   "language": "python",
   "name": "python3"
  },
  "language_info": {
   "codemirror_mode": {
    "name": "ipython",
    "version": 3
   },
   "file_extension": ".py",
   "mimetype": "text/x-python",
   "name": "python",
   "nbconvert_exporter": "python",
   "pygments_lexer": "ipython3",
   "version": "3.8.5"
  }
 },
 "nbformat": 4,
 "nbformat_minor": 2
}

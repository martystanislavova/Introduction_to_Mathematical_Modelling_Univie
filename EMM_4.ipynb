{
 "cells": [
  {
   "cell_type": "markdown",
   "metadata": {},
   "source": [
    "# Aufgabenblatt 4"
   ]
  },
  {
   "cell_type": "markdown",
   "metadata": {},
   "source": [
    "## Lineare Optimierung - 3"
   ]
  },
  {
   "cell_type": "code",
   "execution_count": 8,
   "metadata": {},
   "outputs": [],
   "source": [
    "import numpy as np\n",
    "import pyny3d.geoms as pyny\n",
    "from matplotlib import pyplot as plt"
   ]
  },
  {
   "cell_type": "markdown",
   "metadata": {},
   "source": [
    "### Aufgabe 1.\n",
    "Ein Bergbauunternehmen muss wöchentlich 1 kt (Kilotonnne) Kohle der Qualität A, 0.7 kt der Qualität B, 2 kt der Qualität C und 4.5 kt der Qualität D liefern. Die Kosten pro Tag betragen bei Schacht 1 40 Tausend EUR und bei Schacht 2  100 Tausend EUR. Die Förderung je Tag (in kt) ist folgender Tabelle zu entnehmen:"
   ]
  },
  {
   "cell_type": "code",
   "execution_count": 22,
   "metadata": {},
   "outputs": [
    {
     "data": {
      "text/html": [
       "<div>\n",
       "<style scoped>\n",
       "    .dataframe tbody tr th:only-of-type {\n",
       "        vertical-align: middle;\n",
       "    }\n",
       "\n",
       "    .dataframe tbody tr th {\n",
       "        vertical-align: top;\n",
       "    }\n",
       "\n",
       "    .dataframe thead th {\n",
       "        text-align: right;\n",
       "    }\n",
       "</style>\n",
       "<table border=\"1\" class=\"dataframe\">\n",
       "  <thead>\n",
       "    <tr style=\"text-align: right;\">\n",
       "      <th></th>\n",
       "      <th>A</th>\n",
       "      <th>B</th>\n",
       "      <th>C</th>\n",
       "      <th>D</th>\n",
       "    </tr>\n",
       "  </thead>\n",
       "  <tbody>\n",
       "    <tr>\n",
       "      <th>Schacht 1</th>\n",
       "      <td>0.2</td>\n",
       "      <td>0.1</td>\n",
       "      <td>0.2</td>\n",
       "      <td>0.4</td>\n",
       "    </tr>\n",
       "    <tr>\n",
       "      <th>Schacht 2</th>\n",
       "      <td>0.1</td>\n",
       "      <td>0.1</td>\n",
       "      <td>0.5</td>\n",
       "      <td>1.5</td>\n",
       "    </tr>\n",
       "  </tbody>\n",
       "</table>\n",
       "</div>"
      ],
      "text/plain": [
       "             A    B    C    D\n",
       "Schacht 1  0.2  0.1  0.2  0.4\n",
       "Schacht 2  0.1  0.1  0.5  1.5"
      ]
     },
     "execution_count": 22,
     "metadata": {},
     "output_type": "execute_result"
    }
   ],
   "source": [
    "import pandas as pd\n",
    "import numpy as np\n",
    "Schacht_1 =\"Schacht 1\"\n",
    "Schacht_2 =\"Schacht 2\"\n",
    "row_labels=[Schacht_1,Schacht_2]\n",
    "df = pd.DataFrame(data = np.array([[0.2,0.1,0.2,0.4],[0.1,0.1,0.5,1.5]]), columns = ['A','B','C','D'], index=row_labels)\n",
    "df"
   ]
  },
  {
   "cell_type": "markdown",
   "metadata": {},
   "source": [
    "a) Man löse das Problem durch Dualisierung. "
   ]
  },
  {
   "cell_type": "markdown",
   "metadata": {},
   "source": [
    "b) Ermitteln Sie die Schattenpreise und interpretieren Sie diese Werte."
   ]
  },
  {
   "cell_type": "markdown",
   "metadata": {},
   "source": [
    "$$\\begin{array}{rcl}\n",
    "40 x_1 + 100 x_2 \\rightarrow \\min \\\\\n",
    "0,2 x_1 + 0,1 x_2 \\geq 1\\\\\n",
    "0,1 x_1  + 0,1 x_2 \\geq 0,7\\\\\n",
    "0,2 x_1 + 0,5 x_2 \\geq 2\\\\\n",
    "0,4 x_1  + 1,5 x_2 \\geq 4,5\\\\\n",
    "-x_1 \\geq -7 \\\\\n",
    "-x_2 \\geq -7 \\\\\n",
    "x_1, x_2 \\leq 7\n",
    "\\end{array}$$\n",
    "\n",
    "$$\\begin{pmatrix} \n",
    "40 & 100 \n",
    "\\end{pmatrix}x \\rightarrow \\text{min!}\n",
    "$$\n",
    "\n",
    "$$\\begin{pmatrix} \n",
    "0,2 & 0,1 \\\\\n",
    "0,1 & 0,1 \\\\\n",
    "0,2 & 0,5 \\\\\n",
    "0,4 & 1,5 \\\\\n",
    "-1 & 0 \\\\\n",
    "0 & -1 \\\\\n",
    "\\end{pmatrix} x \\geq \\begin{pmatrix} \n",
    "1  \\\\\n",
    "0,7  \\\\\n",
    "2 \\\\\n",
    "4,5 \\\\\n",
    "-7 \\\\\n",
    "-7 \\\\\n",
    "\\end{pmatrix}$$\n",
    "\n",
    "Wir dualisieren das Problem:\n",
    "\n",
    "$$\\begin{pmatrix} \n",
    "1 & 0,7 & 2 & 4,5 & -7 & -7 \n",
    "\\end{pmatrix}y \\rightarrow \\text{max!}\n",
    "$$\n",
    "\n",
    "$$\\begin{pmatrix} \n",
    "0,2 & 0,1 & 0,2 & 0,4 & -1 & 0 \\\\\n",
    "0,1 & 0,1 & 0,5 & 1,5 & 0 & -1 \\\\\n",
    "\\end{pmatrix} y \\leq \\begin{pmatrix} \n",
    "40  \\\\\n",
    "100 \n",
    "\\end{pmatrix}$$\n",
    "\n",
    "und dann Simplex-Algorithmus anwenden"
   ]
  },
  {
   "cell_type": "code",
   "execution_count": 10,
   "metadata": {},
   "outputs": [
    {
     "name": "stdout",
     "output_type": "stream",
     "text": [
      "     con: array([], dtype=float64)\n",
      "     fun: -399.9999909418156\n",
      " message: 'Optimization terminated successfully.'\n",
      "     nit: 6\n",
      "   slack: array([7.09269230e-07, 1.51644585e-06])\n",
      "  status: 0\n",
      " success: True\n",
      "       x: array([2.57798479e-07, 1.53502909e-05, 1.99999993e+02, 1.47805648e-07,\n",
      "       1.05489111e-06, 4.87403590e-08])\n"
     ]
    }
   ],
   "source": [
    "from scipy.optimize import linprog\n",
    "\n",
    "b = [40, 100]\n",
    "A = [[0.2, 0.1, 0.2, 0.4, -1, 0], [0.1, 0.1, 0.5, 1.5, 0, -1]]\n",
    "c = [-1, -0.7, -2, -4.5, 7, 7]\n",
    "\n",
    "model_linear4 = linprog(c, A, b)\n",
    "print(model_linear)"
   ]
  },
  {
   "cell_type": "markdown",
   "metadata": {},
   "source": [
    "$400$ sind die Kosten wöchentlich für bei Schacht 1 und Schacht 2 zusammen"
   ]
  },
  {
   "cell_type": "markdown",
   "metadata": {},
   "source": [
    "### Aufgabe 2. \n",
    "\n",
    "Für welche der folgenden Tripel $(x,y,z)$ von Punkten ist $z$ Konvexkombination von $x$ und $y$:\n"
   ]
  },
  {
   "cell_type": "markdown",
   "metadata": {},
   "source": [
    "a) $x = (1,1)^T, \\, y = (-8, -8)^T,\\, z= (3,3)^T$"
   ]
  },
  {
   "cell_type": "markdown",
   "metadata": {},
   "source": [
    "$z = \\lambda x + (1 -\\lambda)y$\n",
    "\n",
    "$\\Rightarrow \\lambda + (-8)(1-\\lambda) = 3$\n",
    "\n",
    "$\\lambda + (-8)(1-\\lambda) = 3$\n",
    "\n",
    "$\\lambda = \\frac{11}{9} \\\\\n",
    "\\lambda \\notin [0, 1] $\n",
    "\n",
    "$\\Rightarrow z$ ist nicht Konvexkombination von $x$ und $y$"
   ]
  },
  {
   "cell_type": "markdown",
   "metadata": {},
   "source": [
    "b) $x = (7,4)^T, \\, y = (5.5, 1)^T, \\,z= (6,2)^T$"
   ]
  },
  {
   "cell_type": "markdown",
   "metadata": {},
   "source": [
    "$z = \\lambda x + (1 -\\lambda)y$\n",
    "\n",
    "$7\\lambda + 5,5 - 5,5\\lambda = 6$\n",
    "\n",
    "$4\\lambda + 1 - \\lambda = 2$\n",
    "\n",
    "$\\Rightarrow \\lambda = \\frac{1}{3}$\n",
    "\n",
    "$\\lambda, 1- \\lambda \\in [0, 1]$ \n",
    "\n",
    "$\\Rightarrow z$ ist Konvexkombination von $x$ und $y$\n"
   ]
  },
  {
   "cell_type": "markdown",
   "metadata": {},
   "source": [
    "c) $x = (1,1,1)^T,  \\, y = (5,9,13)^T, \\,z= (2,3,4)^T$"
   ]
  },
  {
   "cell_type": "markdown",
   "metadata": {},
   "source": [
    "$\\lambda + 5 -5\\lambda = 2$\n",
    "\n",
    "$\\lambda +9 - 9\\lambda = 3$\n",
    "\n",
    "$\\lambda +13 - 13\\lambda = 4$\n",
    "\n",
    "$\\Rightarrow \\lambda = \\frac{3}{4}$\n",
    "\n",
    "$\\lambda, 1- \\lambda \\in [0, 1]$\n",
    "\n",
    "$\\Rightarrow z$ ist Konvexkombination von $x$ und $y$\n"
   ]
  },
  {
   "cell_type": "markdown",
   "metadata": {},
   "source": [
    "### Aufgabe 3. \n",
    "\n",
    "Man löse mit dem Simplex-Algorithmus:\n",
    "\n",
    "\\begin{array}{rcl}\n",
    "1000 x_1 + 200 x_2 + 400 x_3 &\\to& \\max\\\\\n",
    "x_1 + x_2 + 8 x_3 &\\leq& 250\\\\\n",
    "20 x_1  + 2 x_2 + x_3&\\leq& 200\\\\\n",
    "x_1, x_2, x_3 &\\geq& 0\n",
    "\\end{array}\n",
    "\n",
    "Um wieviel kann der optimale Zielfunktionswert erhöht werden, wenn man die rechte Seite der ersten Nebenbedingung von 250 auf 251 erhöht?"
   ]
  },
  {
   "cell_type": "markdown",
   "metadata": {},
   "source": [
    "erweiterte Standardform:\n",
    "$$\\begin{array}{rcl}\n",
    "1000 x_1 + 200 x_2 + 400 x_3 \\rightarrow \\max\\\\\n",
    "x_1 + x_2 + 8 x_3  + x_4 = 250\\\\\n",
    "20 x_1  + 2 x_2 + x_3 + x_5 = 200\\\\\n",
    "x_1, x_2, x_3, x_4, x_5 \\geq 0\n",
    "\\end{array}$$\n",
    "\n",
    "$$\\begin{equation}\n",
    "\\begin{array}{c}\n",
    "\\\\\n",
    "Z \\\\ \n",
    "x_4 \\\\\n",
    "x_5 \n",
    "\\end{array}\n",
    "\\begin{bmatrix}\n",
    "\\begin{array}{ccccc|c}\n",
    "  x_1 & x_2 & x_3 & x_4 & x_5 & r. S. \\\\ \\hline\n",
    "  -1000 & -200 & -400 & 0 & 0 & 0 \\\\ \\hline\n",
    "  1 & 1 & 8 & 1 & 0 & 250  \\\\\n",
    "  20 & 2 & 1 & 0 & 1 & 200 \\\\\n",
    "\\end{array}\n",
    "\\end{bmatrix}\n",
    "\\end{equation}$$\n",
    "\n",
    "$$\\begin{equation}\n",
    "\\begin{array}{c}\n",
    "\\\\\n",
    "Z \\\\ \n",
    "x_4 \\\\\n",
    "x_5 \n",
    "\\end{array}\n",
    "\\begin{bmatrix}\n",
    "\\begin{array}{|c|cccc|c}\n",
    "  x_1 & x_2 & x_3 & x_4 & x_5 & r. S. \\\\ \\hline\n",
    "  -1000 & -200 & -400 & 0 & 0 & 0 \\\\ \\hline\n",
    "  1 & 1 & 8 & 1 & 0 & 250  \\\\ \\hline\n",
    "  \\mathbf{20} & 2 & 1 & 0 & 1 & 200 \\\\ \\hline\n",
    "\\end{array}\n",
    "\\end{bmatrix}\n",
    "\\end{equation}$$\n",
    "\n",
    "$$\\begin{equation}\n",
    "\\begin{array}{c}\n",
    "\\\\\n",
    "Z \\\\ \n",
    "x_4 \\\\\n",
    "x_1 \n",
    "\\end{array}\n",
    "\\begin{bmatrix}\n",
    "\\begin{array}{cc|c|cc|c}\n",
    "  x_1 & x_2 & x_3 & x_4 & x_5 & r. S. \\\\ \\hline\n",
    "  0 & -100 & -350 & 0 & 50 & 10000 \\\\ \\hline\n",
    "  0 & 0,9 & \\mathbf{7,95} & 1 & -0,05 & 240  \\\\ \\hline\n",
    "  1 & 0,1 & 0,05 & 0 & 0,05 & 10 \\\\\n",
    "\\end{array}\n",
    "\\end{bmatrix}\n",
    "\\end{equation}$$\n",
    "\n",
    "$$\\begin{equation}\n",
    "\\begin{array}{c}\n",
    "\\\\\n",
    "Z \\\\ \n",
    "x_3 \\\\\n",
    "x_1 \n",
    "\\end{array}\n",
    "\\begin{bmatrix}\n",
    "\\begin{array}{c|c|ccc|c}\n",
    "  x_1 & x_2 & x_3 & x_4 & x_5 & r. S. \\\\ \\hline\n",
    "  0 & 60,38 & 0 & 44,03 & 47,8 & 20566,04 \\\\ \\hline\n",
    "  0 & \\mathbf{0,113} & 1 & 0,126 & -0,0062 & 30,19  \\\\ \\hline\n",
    "  1 & 0,094 & 0 & -0,0062 & 0,05 & 8,5 \\\\ \n",
    "\\end{array}\n",
    "\\end{bmatrix}\n",
    "\\end{equation}$$\n",
    "\n",
    "$$\\begin{equation}\n",
    "\\begin{array}{c}\n",
    "\\\\\n",
    "Z \\\\ \n",
    "x_3 \\\\\n",
    "x_2 \n",
    "\\end{array}\n",
    "\\begin{bmatrix}\n",
    "\\begin{array}{ccccc|c}\n",
    "  x_1 & x_2 & x_3 & x_4 & x_5 & r. S. \\\\ \\hline\n",
    "  640 & 0 & 0 & 40 & 80 & \\mathbf{26000} \\\\ \n",
    "  -0,113 & 0 & 1 & 0,133 & -0,066 & 20  \\\\ \n",
    "  10,6 & 1 & 0 & -0,0066 & 0,533 & 90 \\\\ \n",
    "\\end{array}\n",
    "\\end{bmatrix}\n",
    "\\end{equation}$$\n",
    "\n",
    "keine negative Zahlen mehr $\\Rightarrow$ terminiert der Algorithmus\n",
    "\n",
    "Wenn wir ablesen, ist der Optimalfunktionswert $26000$ in $(0, 90, 20, 0, 0) = (x_1, x_2, x_3, x_4, x_5)$\n",
    "\n",
    "Und wenn wir 250 auf 251 erhöhen, bekommen wir der Optimalfunktionswert $26040$"
   ]
  },
  {
   "cell_type": "code",
   "execution_count": 6,
   "metadata": {},
   "outputs": [],
   "source": [
    "from scipy.optimize import linprog\n",
    "\n",
    "b = [250, 200]\n",
    "A = [[1, 1, 8], [20, 2, 1]]\n",
    "c = [-1000, -200, -400]"
   ]
  },
  {
   "cell_type": "code",
   "execution_count": 7,
   "metadata": {},
   "outputs": [
    {
     "name": "stdout",
     "output_type": "stream",
     "text": [
      "     con: array([], dtype=float64)\n",
      "     fun: -25999.999894741173\n",
      " message: 'Optimization terminated successfully.'\n",
      "     nit: 6\n",
      "   slack: array([1.04533677e-06, 7.81493867e-07])\n",
      "  status: 0\n",
      " success: True\n",
      "       x: array([1.44663607e-09, 8.99999996e+01, 1.99999999e+01])\n"
     ]
    }
   ],
   "source": [
    "model_linear1 = linprog(c, A, b)\n",
    "print(model_linear)"
   ]
  },
  {
   "cell_type": "code",
   "execution_count": 13,
   "metadata": {},
   "outputs": [],
   "source": [
    "from scipy.optimize import linprog\n",
    "\n",
    "b = [251, 200]\n",
    "A = [[1, 1, 8], [20, 2, 1]]\n",
    "c = [-1000, -200, -400]"
   ]
  },
  {
   "cell_type": "code",
   "execution_count": 14,
   "metadata": {},
   "outputs": [
    {
     "name": "stdout",
     "output_type": "stream",
     "text": [
      "     con: array([], dtype=float64)\n",
      "     fun: -26039.999904761782\n",
      " message: 'Optimization terminated successfully.'\n",
      "     nit: 6\n",
      "   slack: array([9.48227012e-07, 7.05790370e-07])\n",
      "  status: 0\n",
      " success: True\n",
      "       x: array([1.32173013e-09, 8.99333330e+01, 2.01333333e+01])\n"
     ]
    }
   ],
   "source": [
    "model_linear2 = linprog(c, A, b)\n",
    "print(model_linear)"
   ]
  },
  {
   "cell_type": "markdown",
   "metadata": {},
   "source": [
    "### Aufgabe 4.\n",
    "\n",
    "Mit den drei Lebensmitteln A,B,C ist ein Tagesbedarf von 2000 kcal, 60 g Eiweiß und 40 g Fett zu decken. Energiegehalt, Nährstoffgehalt und Preis sind untenstehender Tabelle zu entnehmen.\t"
   ]
  },
  {
   "cell_type": "code",
   "execution_count": 23,
   "metadata": {},
   "outputs": [
    {
     "data": {
      "text/html": [
       "<div>\n",
       "<style scoped>\n",
       "    .dataframe tbody tr th:only-of-type {\n",
       "        vertical-align: middle;\n",
       "    }\n",
       "\n",
       "    .dataframe tbody tr th {\n",
       "        vertical-align: top;\n",
       "    }\n",
       "\n",
       "    .dataframe thead th {\n",
       "        text-align: right;\n",
       "    }\n",
       "</style>\n",
       "<table border=\"1\" class=\"dataframe\">\n",
       "  <thead>\n",
       "    <tr style=\"text-align: right;\">\n",
       "      <th></th>\n",
       "      <th>kcal</th>\n",
       "      <th>g Eiweiß</th>\n",
       "      <th>g Fett</th>\n",
       "      <th>Preis</th>\n",
       "    </tr>\n",
       "  </thead>\n",
       "  <tbody>\n",
       "    <tr>\n",
       "      <th>A</th>\n",
       "      <td>80.0</td>\n",
       "      <td>2.0</td>\n",
       "      <td>0.0</td>\n",
       "      <td>1.5</td>\n",
       "    </tr>\n",
       "    <tr>\n",
       "      <th>B</th>\n",
       "      <td>250.0</td>\n",
       "      <td>6.0</td>\n",
       "      <td>1.0</td>\n",
       "      <td>2.0</td>\n",
       "    </tr>\n",
       "    <tr>\n",
       "      <th>C</th>\n",
       "      <td>400.0</td>\n",
       "      <td>30.0</td>\n",
       "      <td>30.0</td>\n",
       "      <td>15.0</td>\n",
       "    </tr>\n",
       "  </tbody>\n",
       "</table>\n",
       "</div>"
      ],
      "text/plain": [
       "    kcal  g Eiweiß  g Fett  Preis\n",
       "A   80.0       2.0     0.0    1.5\n",
       "B  250.0       6.0     1.0    2.0\n",
       "C  400.0      30.0    30.0   15.0"
      ]
     },
     "execution_count": 23,
     "metadata": {},
     "output_type": "execute_result"
    }
   ],
   "source": [
    "import pandas as pd\n",
    "import numpy as np\n",
    "row_labels=['A','B','C']\n",
    "df = pd.DataFrame(data = np.array([[80,2,0,1.5],[250,6,1,2],[400,30,30,15]]), columns = ['kcal','g Eiweiß','g Fett','Preis'], index=row_labels)\n",
    "df"
   ]
  },
  {
   "cell_type": "markdown",
   "metadata": {},
   "source": [
    "Lösen Sie  das  Problem  mit dem Simplex-Algorithmus."
   ]
  },
  {
   "cell_type": "markdown",
   "metadata": {},
   "source": [
    "$$\\begin{array}{rcl}\n",
    "2000 x_1 + 60 x_2 + 40x_3 \\rightarrow \\min \\\\\n",
    "80 x_1 + 2 x_2 \\geq 1,5\\\\\n",
    "250 x_1  + 6 x_2 + x_3 \\geq 2\\\\\n",
    "400 x_1 + 30 x_2 +30x_3 \\geq 15\\\\\n",
    "x_1, x_2, x_3 \\geq 0\n",
    "\\end{array}$$\n",
    "\n",
    "$$\\begin{pmatrix} \n",
    "2000 & 60 & 40 \n",
    "\\end{pmatrix}x \\rightarrow \\text{min!}\n",
    "$$\n",
    "\n",
    "$$\\begin{pmatrix} \n",
    "80 & 2 & 0 \\\\\n",
    "250 & 6 & 1 \\\\\n",
    "400 & 30 & 30 \\\\\n",
    "\\end{pmatrix} x \\geq \\begin{pmatrix} \n",
    "1,5  \\\\\n",
    "2  \\\\\n",
    "15 \\\\\n",
    "\\end{pmatrix}$$\n",
    "\n",
    "Wir dualisieren das Problem:\n",
    "\n",
    "$$\\begin{pmatrix} \n",
    "1,5 & 2 & 15 \n",
    "\\end{pmatrix}y \\rightarrow \\text{max!}\n",
    "$$\n",
    "\n",
    "$$\\begin{pmatrix} \n",
    "80 & 250 & 400 \\\\\n",
    "2 & 6 & 30 \\\\\n",
    "0 & 1 & 30 \\\\\n",
    "\\end{pmatrix} y \\leq \\begin{pmatrix} \n",
    "2000  \\\\\n",
    "60 \\\\\n",
    "40\n",
    "\\end{pmatrix}$$\n",
    "\n",
    "und dann Simplex-Algorithmus anwenden"
   ]
  },
  {
   "cell_type": "code",
   "execution_count": 12,
   "metadata": {},
   "outputs": [
    {
     "name": "stdout",
     "output_type": "stream",
     "text": [
      "     con: array([], dtype=float64)\n",
      "     fun: -19.999999768662875\n",
      " message: 'Optimization terminated successfully.'\n",
      "     nit: 9\n",
      "   slack: array([ 2.00000000e+03,  5.86666664e+01, -9.15330176e-08])\n",
      "  status: 0\n",
      " success: True\n",
      "       x: array([7.08099450e-10, 1.05035303e-08, 1.33333332e+00])\n"
     ]
    }
   ],
   "source": [
    "from scipy.optimize import linprog\n",
    "\n",
    "b = [2000, 60, 40]\n",
    "A = [[80, 2, 0], [250, 6, 1], [400, 30, 30]]\n",
    "c = [-1.5, -2, -15]\n",
    "\n",
    "model_linear3 = linprog(c, A, b)\n",
    "print(model_linear)"
   ]
  }
 ],
 "metadata": {
  "kernelspec": {
   "display_name": "Python 3",
   "language": "python",
   "name": "python3"
  },
  "language_info": {
   "codemirror_mode": {
    "name": "ipython",
    "version": 3
   },
   "file_extension": ".py",
   "mimetype": "text/x-python",
   "name": "python",
   "nbconvert_exporter": "python",
   "pygments_lexer": "ipython3",
   "version": "3.8.5"
  }
 },
 "nbformat": 4,
 "nbformat_minor": 2
}

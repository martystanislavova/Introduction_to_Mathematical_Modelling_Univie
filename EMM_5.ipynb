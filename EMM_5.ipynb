{
 "cells": [
  {
   "cell_type": "markdown",
   "metadata": {},
   "source": [
    "# Aufgabenblatt 5\n",
    "\n"
   ]
  },
  {
   "cell_type": "markdown",
   "metadata": {},
   "source": [
    "\n",
    "## Nichtlineare Optimierung - 1\n"
   ]
  },
  {
   "cell_type": "code",
   "execution_count": 2,
   "metadata": {},
   "outputs": [],
   "source": [
    "import numpy as np\n",
    "import pyny3d.geoms as pyny\n",
    "from matplotlib import pyplot as plt"
   ]
  },
  {
   "cell_type": "markdown",
   "metadata": {},
   "source": [
    "### Aufgabe 1."
   ]
  },
  {
   "cell_type": "markdown",
   "metadata": {},
   "source": [
    "Führen Sie für das Optimierungsproblem "
   ]
  },
  {
   "cell_type": "markdown",
   "metadata": {},
   "source": [
    "$$ (x-0.5)^2 + (2-x)^{-2} \\to \\text{min},  \\quad 0 \\leq x \\leq 1 $$"
   ]
  },
  {
   "cell_type": "markdown",
   "metadata": {},
   "source": [
    "sechs Iterationsschritte der Goldenen-Schnitt-Suche durch. "
   ]
  },
  {
   "cell_type": "markdown",
   "metadata": {},
   "source": []
  },
  {
   "cell_type": "code",
   "execution_count": 24,
   "metadata": {},
   "outputs": [
    {
     "name": "stdout",
     "output_type": "stream",
     "text": [
      "i \t\t x_lower \t x_Optimum \t x_upper\n",
      "1.000000 \t 0.000000 \t 0.236068 \t 0.618034\n",
      "2.000000 \t 0.000000 \t 0.236068 \t 0.381966\n",
      "3.000000 \t 0.145898 \t 0.291796 \t 0.381966\n",
      "4.000000 \t 0.236068 \t 0.291796 \t 0.381966\n",
      "5.000000 \t 0.236068 \t 0.291796 \t 0.326238\n",
      "6.000000 \t 0.270510 \t 0.291796 \t 0.326238\n"
     ]
    }
   ],
   "source": [
    "#function\n",
    "f = lambda x: (x-0.5)**2 + (2-x)**(-2)\n",
    "\n",
    "xl = 0; xu = 1\n",
    "\n",
    "print('i \\t\\t x_lower \\t x_Optimum \\t x_upper') \n",
    "i = 1\n",
    "\n",
    "γ = (5 ** 0.5 - 1) / 2\n",
    "D = γ * (xu - xl)\n",
    "λ = xl + D\n",
    "μ = xu - D\n",
    "f1 = f(λ)\n",
    "f2 = f(μ)\n",
    "\n",
    "while i!=7:\n",
    "    if f1 < f2:\n",
    "        xl = μ\n",
    "        μ = λ\n",
    "        f2 = f1\n",
    "        λ = xl + γ*(xu - xl)\n",
    "        f1 = f(λ)\n",
    "    else:\n",
    "        xu = λ\n",
    "        λ = μ\n",
    "        f1 = f2\n",
    "        μ = xu - γ*(xu-xl)\n",
    "        f2 = f(μ)\n",
    "        \n",
    "    if f1 < f2:\n",
    "        xopt = λ\n",
    "    else:\n",
    "        xopt = μ\n",
    "        \n",
    "    print ('%f \\t %f \\t %f \\t %f'% (i, xl, xopt, xu))\n",
    "    i+=1"
   ]
  },
  {
   "cell_type": "markdown",
   "metadata": {},
   "source": [
    "### Aufgabe 2."
   ]
  },
  {
   "cell_type": "markdown",
   "metadata": {},
   "source": [
    "Finden Sie das Minimum der Funktion\n",
    "\n",
    "$$ f(x) =  3 x^3 - 5 x^2 + x + 2 $$\n",
    "\n",
    "im Intervall $[ 0.5; 3 ]$ mit der Fibonacci - Suche  und Genauigkeit von $\\epsilon = 0.1$                         \n",
    "\n",
    "Hinweis: Wählen Sie den Parameter $n$ so, dass Sie mit dem kleinsten Wert von $n$ die notwendige Genauigkeit $\\epsilon $ erreichen können. \n"
   ]
  },
  {
   "cell_type": "markdown",
   "metadata": {},
   "source": [
    "$$\\frac{3-0,5}{\\epsilon} = F_n \\\\\n",
    "\\Rightarrow \\frac{2,5}{0,1} = 25 \\\\\n",
    "8 \\leq n \\leq 9\n",
    "$$\n",
    "ich wähle $n = 9$"
   ]
  },
  {
   "cell_type": "code",
   "execution_count": 3,
   "metadata": {},
   "outputs": [],
   "source": [
    "def F(n):\n",
    "    if n < 1:\n",
    "        return 0\n",
    "    elif n == 1:\n",
    "        return 1\n",
    "    else:\n",
    "        return F(n - 1) + F(n - 2)"
   ]
  },
  {
   "cell_type": "code",
   "execution_count": 5,
   "metadata": {},
   "outputs": [
    {
     "name": "stdout",
     "output_type": "stream",
     "text": [
      "k \t\t x_lower \t x_Optimum \t x_upper\n",
      "1.000000 \t 0.500000 \t 1.455882 \t 2.044118\n",
      "2.000000 \t 1.090398 \t 1.680796 \t 2.044118\n",
      "3.000000 \t 1.455882 \t 1.817873 \t 2.044118\n",
      "4.000000 \t 1.680796 \t 1.907872 \t 2.044118\n",
      "5.000000 \t 1.817873 \t 1.953620 \t 2.044118\n",
      "6.000000 \t 1.907872 \t 1.998702 \t 2.044118\n",
      "7.000000 \t 1.953620 \t 1.998869 \t 2.044118\n",
      "8.000000 \t 1.998702 \t 2.044118 \t 2.044118\n"
     ]
    }
   ],
   "source": [
    "f = lambda x: 3* x**3 - 5* x**2 + x + 2\n",
    "\n",
    "xl = 0.5; xu = 3\n",
    "\n",
    "print('k \\t\\t x_lower \\t x_Optimum \\t x_upper') \n",
    "n = 9; k = 1\n",
    "\n",
    "D = xu - xl\n",
    "λ = xl + D*(F(n-k-1)/F(n-k+1))\n",
    "μ = xl + D*(F(n-k)/F(n-k+1))\n",
    "f1 = f(λ)\n",
    "f2 = f(μ)\n",
    "\n",
    "while k != 9:\n",
    "    if f1 < f2:\n",
    "        xu = μ\n",
    "        μ = λ\n",
    "        f2 = f(μ)\n",
    "        λ = xl + (xu-xl)*(F(n-k-1)/F(n-k+1))\n",
    "        f1 = f(λ)\n",
    "    else:\n",
    "        xl = λ\n",
    "        λ = μ\n",
    "        f1 = f(λ)\n",
    "        μ = xl + (xu-xl)*(F(n-k)/F(n-k+1))\n",
    "        f2 = f(μ)\n",
    "    if f1 < f2:\n",
    "        xopt = λ\n",
    "    else:\n",
    "        xopt = μ\n",
    "        \n",
    "    print ('%f \\t %f \\t %f \\t %f'% (k, xl, xopt, xu))\n",
    "    k+=1\n",
    "    "
   ]
  },
  {
   "cell_type": "markdown",
   "metadata": {},
   "source": [
    "### Aufgabe 3.\n",
    "Berechnen Sie mit vier Schritten des Newton-Raphson Verfahrens eine Annäherung zum Minimum der Funktion \n",
    "\n",
    "$$ f(x)= x^4 - 6 x^2 + 10$$\n",
    "\n",
    "im Intervall $[ 1 ; 3 ]$ (Startwert = 2)."
   ]
  },
  {
   "cell_type": "code",
   "execution_count": 2,
   "metadata": {},
   "outputs": [
    {
     "name": "stdout",
     "output_type": "stream",
     "text": [
      "x_ 1 1.7777777777777777\n",
      "x_ 2 1.7337566137566138\n",
      "x_ 3 1.732053321730378\n",
      "x_ 4 1.7320508075743515\n"
     ]
    }
   ],
   "source": [
    "x0 = 2\n",
    "f = lambda x: x**4 - 6*x**2 + 10;\n",
    "f_ab1 = lambda x: 4*x**3 - 12*x;\n",
    "f_ab2 = lambda x: 12*x**2 - 12;\n",
    "\n",
    "for x in range(4):\n",
    "    xn = x0 - ((f_ab1(x0))/(f_ab2(x0)))\n",
    "    print(\"x\", x+1, xn)\n",
    "    x0 = xn;"
   ]
  },
  {
   "cell_type": "markdown",
   "metadata": {},
   "source": [
    "### Aufgabe 4. \n",
    "\n",
    "Führen Sie vier Iterationsschritte mit dem “Steilster Abstieg“-Algorithmus für das Problem  \n"
   ]
  },
  {
   "cell_type": "markdown",
   "metadata": {},
   "source": [
    "$$ - 2 x_1 x_2 - 2 x_2 + x_1^2 + 2 x_2^2 \\to \\text{min}$$ "
   ]
  },
  {
   "cell_type": "markdown",
   "metadata": {},
   "source": [
    "durch (Startvektor = Nullvektor). "
   ]
  },
  {
   "cell_type": "markdown",
   "metadata": {},
   "source": [
    "Zeichnen Sie eine Skizze der Zwischenlösungen und erraten Sie die optimale Lösung."
   ]
  },
  {
   "cell_type": "markdown",
   "metadata": {},
   "source": [
    "$$\n",
    "\\nabla F(x_1, x_2) = (-2x_2 + 2x_1, -2x_1 - 2 + 4x_2) \\\\\n",
    "\\nabla F(0, 0) = (0, -2) \\\\\n",
    "x_1 = (0, 0) \\\\\n",
    "x_2 = x_1 + \\lambda_1(-\\nabla F(x_1)) \\\\\n",
    "= (0, 0) + \\lambda_1(0, 2)\n",
    "=(0, 2\\lambda_1) \\\\\n",
    "F(x_2) = -4\\lambda_1 + 8(\\lambda_1)^2\n",
    "F'(\\lambda_1) = 0 \\\\\n",
    "\\Rightarrow 16\\lambda_1 - 4 = 0 \\\\\n",
    "\\lambda_1 = \\frac{1}{4} \\\\\n",
    "\\Rightarrow x_2 = (0, \\frac{1}{2})\\\\\n",
    "F(x_2) = -\\frac{1}{2} \\\\\n",
    "|F(x_(i+1) - F(x_i)| = |F(x_2) - F(x_1)| = \\frac{1}{2} \\\\\n",
    "x_3 = x_2 - \\lambda_2(\\nabla F(x_2)) = (\\lambda_2, \\frac{1}{2}) \\\\\n",
    "F(x_3) = \\lambda_2 ^2 - \\lambda_2 + \\frac{1}{2} \\\\\n",
    "F'(x_3) = 0 \\\\\n",
    "\\Rightarrow 2\\lambda_2 -1 = 0 \\\\\n",
    "\\lambda_2 = \\frac{1}{2} \\\\\n",
    "\\Rightarrow x_3 = (\\frac{1}{2}, \\frac{1}{2}) \\\\\n",
    "F(x_3) = -\\frac{3}{4}\n",
    "|F(x_3) - F(x_2)| = \\frac{1}{4} \\\\\n",
    "x_4 = 2\\lambda_3^2 - \\lambda_3 -\\frac{3}{4} \\\\\n",
    "F'(x_4) = 0 \\\\\n",
    "\\Rightarrow 4\\lambda_3 - 1 = 0 \\\\\n",
    "\\lambda_3 \\frac{1}{4} \\\\\n",
    "x_4 = (\\frac{1}{2}, \\frac{3}{4})\n",
    "$$"
   ]
  },
  {
   "cell_type": "code",
   "execution_count": 1,
   "metadata": {},
   "outputs": [
    {
     "name": "stdout",
     "output_type": "stream",
     "text": [
      "dx: 2*x - 2*y , dy: -2*x + 4*y - 2\n",
      "0 0\n",
      "0 -2\n",
      "[0.24999999] [-0.5]\n"
     ]
    }
   ],
   "source": [
    "import sympy as sp\n",
    "x, y = sp.symbols('x y')\n",
    "\n",
    "f = lambda x, y: -2*x*y - 2*y + x**2 + 2*y**2\n",
    "\n",
    "dx = sp.diff(f(x,y), x)\n",
    "dy = sp.diff(f(x,y), y)\n",
    "print(\"dx:\", dx, \", dy:\", dy)\n",
    "\n",
    "xp = 0; yp = 0 #Startvektor waehlen\n",
    "#https://stackoverflow.com/questions/51814567/python-how-to-get-the-value-of-one-specific-point-of-derivative\n",
    "#https://docs.sympy.org/latest/modules/utilities/lambdify.html\n",
    "\n",
    "ddx = sp.lambdify((x,y) , dx)\n",
    "ddy = sp.lambdify((x,y) , dy)\n",
    "\n",
    "#calculate gradient of F\n",
    "xp_n = ddx(xp,yp)\n",
    "yp_n = ddy(xp,yp)\n",
    "\n",
    "print(xp, yp) #startvektor\n",
    "print(xp_n, yp_n) #gradientenvektor\n",
    "\n",
    "#minimise the function in relation to lambda to find the minimum point\n",
    "from scipy.optimize import minimize\n",
    "l = sp.Symbol('l')\n",
    "f2 = lambda l: f(xp - l*xp_n, yp - l*yp_n)\n",
    "x0 = [1.]\n",
    "res = minimize(f2, x0)\n",
    "print(res.x, f2(res.x))"
   ]
  },
  {
   "cell_type": "markdown",
   "metadata": {},
   "source": [
    "### Aufgabe 5. \n",
    "\n",
    "Betrachten Sie das Optimierungsproblem"
   ]
  },
  {
   "cell_type": "markdown",
   "metadata": {},
   "source": [
    "$$ 5 x_1^2 + 5 x_2^2 − 11 x_1 + 11 x_2 +11 \\to \\text{min} $$ "
   ]
  },
  {
   "cell_type": "markdown",
   "metadata": {},
   "source": [
    "(a) Finden Sie den Punkt, in welchem die notwendigen Optimalitätskriterien erster Ordnung erfüllt sind."
   ]
  },
  {
   "cell_type": "markdown",
   "metadata": {},
   "source": [
    "(b) Zeigen Sie, dass dieser Punkt ein globales Minimum ist."
   ]
  },
  {
   "cell_type": "markdown",
   "metadata": {},
   "source": [
    "(c) Suchen Sie ausgehend vom Punkt $(x_1, x_2) = (0, 0)$ das Minimum mit dem Algorithmus von Newton und Raphson.\n"
   ]
  }
 ],
 "metadata": {
  "kernelspec": {
   "display_name": "Python 3",
   "language": "python",
   "name": "python3"
  },
  "language_info": {
   "codemirror_mode": {
    "name": "ipython",
    "version": 3
   },
   "file_extension": ".py",
   "mimetype": "text/x-python",
   "name": "python",
   "nbconvert_exporter": "python",
   "pygments_lexer": "ipython3",
   "version": "3.8.5"
  }
 },
 "nbformat": 4,
 "nbformat_minor": 2
}

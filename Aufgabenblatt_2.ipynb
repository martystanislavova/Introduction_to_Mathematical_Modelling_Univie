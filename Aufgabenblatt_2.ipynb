{
 "cells": [
  {
   "cell_type": "markdown",
   "metadata": {},
   "source": [
    "# Aufgabenblatt 2"
   ]
  },
  {
   "cell_type": "markdown",
   "metadata": {},
   "source": [
    "## Lineare Optimierung - 2"
   ]
  },
  {
   "cell_type": "markdown",
   "metadata": {},
   "source": [
    "### Aufgabe 1\n",
    "\n",
    "Für welche Werte des Parameter $\\beta$ hat das lineare Optimierungsproblem:\n",
    "\n",
    "$ f(x,y)= x + \\beta y  \\rightarrow    \\text{max(min)}$\n",
    "\n",
    "unter den Nebenbedingungen:\n",
    "\n",
    "$x  - y\\leq 1,\\quad x + 2y \\geq 4,\\quad x \\geq 0, \\quad y \\geq 0$\n",
    "\n",
    "a) eine einzige Lösung;\n",
    "\n",
    "b) unendlich viele Lösungen;\n",
    "\n",
    "c) keine Lösung.\n"
   ]
  },
  {
   "cell_type": "code",
   "execution_count": 32,
   "metadata": {},
   "outputs": [
    {
     "data": {
      "text/plain": [
       "<matplotlib.collections.PolyCollection at 0x7f9a32710790>"
      ]
     },
     "execution_count": 32,
     "metadata": {},
     "output_type": "execute_result"
    },
    {
     "data": {
      "image/png": "[encoded data removed]",
      "text/plain": [
       "<Figure size 640x480 with 1 Axes>"
      ]
     },
     "metadata": {},
     "output_type": "display_data"
    }
   ],
   "source": [
    "import matplotlib.pyplot as plt\n",
    "import numpy as np\n",
    "\n",
    "x = np.linspace(0, 5, 1000)\n",
    "\n",
    "plt.plot(x, x - 1, label=r'$x-y \\leq 1$')\n",
    "plt.plot(x, (4 - x) / 2, label=r'$x + 2y \\geq 4$')\n",
    "plt.axvline(0, color='black')\n",
    "plt.axhline(0, color='black')\n",
    "plt.fill_between([0, 1, 2], [0, 0, 1], [0, 1, 2])"
   ]
  },
  {
   "cell_type": "markdown",
   "metadata": {},
   "source": [
    "### Aufgabe 2\n",
    "\n",
    "Wandeln Sie die folgenden Probleme in Probleme der Dimension 2 um und lösen Sie sie anschließend grafisch:\n",
    "\n",
    "a) $$ f(x,y,z )= 2x + y + z \\rightarrow \\text{max(min)}$$\n",
    "unter den Nebenbedingungen:\n",
    "$$ x + y + z = 4, \\quad x - y + z \\leq 2, \\quad x \\geq 0, \\quad y \\geq 0, \\quad z \\geq 0$$\n",
    "\n",
    "b) $$ f(x, y,z  )=  - 3y - 3 z  \\rightarrow \\text{max(min) }$$\n",
    "unter den Nebenbedingungen:\n",
    "$$ x  - 3 y + z = 5, \\quad y -  z = 2, \\quad x \\geq 0, \\quad y \\geq 0, \\quad z \\geq 0$$\n",
    "\n"
   ]
  },
  {
   "cell_type": "markdown",
   "metadata": {},
   "source": [
    "### Lösung 2.\n",
    "\n",
    "a) Eliminieren von z:\n",
    "\n",
    "$$x+y+z = 4 $$\n",
    "$$z = 4-x-y $$\n",
    "\n",
    "Einsetzen von z in der Zielfuntion ergibt:\n",
    "$$ f(x,y) = x + 4 $$"
   ]
  },
  {
   "cell_type": "code",
   "execution_count": 33,
   "metadata": {},
   "outputs": [],
   "source": [
    " "
   ]
  },
  {
   "cell_type": "code",
   "execution_count": null,
   "metadata": {},
   "outputs": [],
   "source": [
    "\n"
   ]
  },
  {
   "cell_type": "markdown",
   "metadata": {},
   "source": [
    "b) Eliminieren von z: \n",
    "$$x-3y+z=5$$\n",
    "$$x-3y-5 = -z$$\n",
    "$$5-x+3y = z$$\n",
    "\n",
    "Einsetzen von z in der Nebenbedieniung:\n",
    "$$y -(5-x+3y) = 2$$\n",
    "$$y -5 +x =3y = 2$$\n",
    "$$ -5 + x - 2y = 2 $$\n",
    "$$ x - 2y = 7 $$\n",
    "\n",
    "Einsetzen von z in der Zielfuntion ergibt:\n",
    "$$ f(x,y) = -3y - 3z = -3y - 3(5-x+3y)= -15+3x+12y $$"
   ]
  },
  {
   "cell_type": "code",
   "execution_count": null,
   "metadata": {},
   "outputs": [],
   "source": []
  },
  {
   "cell_type": "markdown",
   "metadata": {},
   "source": [
    "### Aufgabe 3.\n",
    " Der zulässige  Bereich wird durch folgende Ungleichungen definiert\n",
    "        $$x + y + 2 z   \\leq 8 $$\n",
    "\t\t$$  y + 6 z   \\leq  12  $$\n",
    "\t\t$$ x    \\leq 4 $$\n",
    "\t\t$$ y   \\leq  6 $$\n",
    "\t\t$$x ,  \\,y , \\, z   \\geq 0$$\n",
    "\t\t\n",
    "Welche von den  Ecken  $A=(2,6,0)$,  $B=(4,0,2)$  sind  degeneriert?\n",
    "Welche Basen gehören zu diesen Ecken?"
   ]
  },
  {
   "cell_type": "markdown",
   "metadata": {},
   "source": [
    "### Lösung\n",
    "Addition von die Schlupfvariablen $x_4,x_5,x_6,x_7$, um die Ungleichungen zu Gleichungen umzuformen.\n",
    "\n",
    "$x_1 +x_2+2x_3+ x_4 = 8$\n",
    "\n",
    "$x_2+6x_3+x_5=12$\n",
    "\n",
    "$x_1+x_6=4$\n",
    "\n",
    "$x_2+x_7=6$\n",
    "\n",
    "$x_1,x_2,x_3,x_4,x_5,x_6,x_7 \\geq 0$"
   ]
  },
  {
   "cell_type": "markdown",
   "metadata": {},
   "source": [
    "$$\\begin{pmatrix} \n",
    "1 & 1 & 2 & 1 & 0 & 0 & 0 \\\\\n",
    "0 & 1 & 6 & 0 & 1 & 0 & 0 \\\\\n",
    "1 & 0 & 0 & 0 & 0 & 1 & 0 \\\\\n",
    "0 & 1 & 0 & 0 & 0 & 0 & 1 \n",
    "\\end{pmatrix} \\begin{pmatrix} \n",
    "x_1  \\\\\n",
    "x_2  \\\\\n",
    "x_3  \\\\\n",
    "x_4 \\\\\n",
    "x_5\\\\\n",
    "x_6\\\\\n",
    "x_7\n",
    "\\end{pmatrix} = \\begin{pmatrix} \n",
    "8 \\\\\n",
    "12  \\\\\n",
    "4 \\\\\n",
    "6  \n",
    "\\end{pmatrix}$$"
   ]
  },
  {
   "cell_type": "markdown",
   "metadata": {},
   "source": [
    "Die Ecke $A = (2,6,0)$ wird in den Ungleichungen eingesetzt um Variablen $x_4,x_5,x_6,x_7$ zu finden, und dann folgt:\n",
    " $x_4 = 0, x_5 = 6, x_6 = 2, x_7 = 0$\n",
    "\n",
    "$$\\begin{pmatrix} \n",
    "x_1  \\\\\n",
    "x_2  \\\\\n",
    "x_3  \\\\\n",
    "x_4 \\\\\n",
    "x_5\\\\\n",
    "x_6\\\\\n",
    "x_7\n",
    "\\end{pmatrix} = \\begin{pmatrix} \n",
    " 2 \\\\\n",
    " 6\\\\\n",
    "  0\\\\\n",
    " 0\\\\\n",
    "6\\\\\n",
    "2\\\\\n",
    "0\n",
    "\\end{pmatrix} $$\n",
    "\n",
    "Die folgende Variablen sind potenzielle Basisvariablen: $x_1x_2,  x_1x_3,  x_1x_4,  x_1x_5...$\n",
    "Und wir können umschließen, dass die Ecke degeneriert ist da es mindesten eine Basisvariable gibt, die gleich 0 ist\n"
   ]
  },
  {
   "cell_type": "markdown",
   "metadata": {},
   "source": [
    "Die Ecke $B = (4,0,2)$ wird in den Ungleichungen eingesetzt um Variablen $x_4,x_5,x_6,x_7$ zu finden, und dann folgt:\n",
    " $x_4 = 0, x_5 = 0, x_6 = 0, x_7 = 6$\n",
    " \n",
    "$$\\begin{pmatrix} \n",
    "x_1  \\\\\n",
    "x_2  \\\\\n",
    "x_3  \\\\\n",
    "x_4 \\\\\n",
    "x_5\\\\\n",
    "x_6\\\\\n",
    "x_7\n",
    "\\end{pmatrix} = \\begin{pmatrix} \n",
    " 4 \\\\\n",
    " 0\\\\\n",
    "  2\\\\\n",
    " 0\\\\\n",
    "0\\\\\n",
    "0\\\\\n",
    "6\n",
    "\\end{pmatrix} $$\n",
    "\n",
    "Die folgende Variablen sind potenzielle Basisvariablen: $x_1x_2,  x_1x_3,  x_1x_4,  x_1x_5...$\n",
    "Und wir können umschließen, dass die Ecke degeneriert ist da es mindesten eine Basisvariable gibt, die gleich 0 ist\n"
   ]
  },
  {
   "cell_type": "markdown",
   "metadata": {},
   "source": [
    "Schließlich jede Variable, die in der Ecke einen Wert größer als 0 hat gehört auch zur Basis."
   ]
  },
  {
   "cell_type": "markdown",
   "metadata": {},
   "source": [
    "### Aufgabe 4.\n",
    "\n",
    "Für welche der folgenden Tripel $(x,y,z)$ von Punkten ist $z$ Konvexkombination von $x$ und $y$:\n",
    "\n",
    "a) $x = (1,1)^T, \\, y = (-8, -8)^T,\\, z= (3,3)^T$\n",
    "\n",
    "b) $x = (7,4)^T, \\, y = (5.5, 1)^T, \\,z= (6,2)^T$\n",
    "\n",
    "c) $x = (1,1,1)^T,  \\, y = (5,9,13)^T, \\,z= (2,3,4)^T$\n"
   ]
  },
  {
   "cell_type": "markdown",
   "metadata": {},
   "source": [
    "### Lösung\n",
    "$z = \\lambda x + (1-\\lambda)y$  \n",
    "   $wobei 0 \\leq \\lambda \\leq 1$\n",
    "\n",
    "a)\n",
    "\n",
    "   $3 = \\lambda + (1-\\lambda)(-8)$\n",
    "   $\\rightarrow\\lambda = 1.22$ \n",
    "   \n",
    "   $\\lambda$ ist > 1, und daher ist $z$ keine Konvexkombination von $x$ und $y$\n",
    " \n",
    " \n",
    "b)\n",
    "\n",
    "  $6 = 7\\lambda + (1-\\lambda)(5.5)$\n",
    "  $\\rightarrow\\lambda = \\frac{1}{3} \\approx 0.33$ \n",
    "  \n",
    "  $2 = 4\\lambda + (1-\\lambda)$\n",
    "  $\\rightarrow\\lambda = \\frac{1}{3} \\approx 0.33 $ \n",
    "  \n",
    "  da $\\lambda \\approx 0.33$ löst beide Gleichungen und $0 \\leq \\lambda \\leq 1$, $z$ ist eine Konverkombination von $x$ und $y$\n",
    " \n",
    "   \n",
    "c)\n",
    "\n",
    "$2 = \\lambda + (1-\\lambda)(5)$\n",
    "$\\rightarrow\\lambda = \\frac{3}{4} = 0.75 $ \n",
    "\n",
    "$3 = \\lambda + (1-\\lambda)(9)$\n",
    "$\\rightarrow\\lambda = \\frac{3}{4} = 0.75$ \n",
    "\n",
    "$4= \\lambda + (1-\\lambda)(13)$\n",
    "$\\rightarrow\\lambda = \\frac{3}{4} = 0.75$ \n",
    "\n",
    "da $\\lambda = 0.75$ löst alle Gleichungen und $0 \\leq \\lambda \\leq 1$, $z$ ist eine Konverkombination von $x$ und $y$\n"
   ]
  },
  {
   "cell_type": "markdown",
   "metadata": {},
   "source": [
    "### Aufgabe 5. \n",
    "\n",
    "Finden Sie alle Ecken und die entsprechenden Basen für die folgenden Mengen:\n",
    "\n",
    "a)  $$ X = \\{(x,y,z,v) \\in R^4: x-2y-z =0,\\quad -x + 3y + v = 1, \\quad x\\geq 0 ,  \\quad  y\\geq 0 , \\quad  z\\geq 0 , \\quad  v \\geq 0 \\}$$\n",
    "\n",
    "b) $$ X = \\{(x,y,z,v,w) \\in R^5: x + y + z + v =1,\\quad -x + 2y + z + w = 1, \\quad x\\geq 0 ,  \\quad  y\\geq 0 , \\quad  z\\geq 0 , \\quad  v\\geq 0 , \\quad  w \\geq 0 \\}$$\n",
    "\n",
    "c) $$ X = \\{(x,y,z,v,w) \\in R^5: 2x + 3z + w =3,\\quad x + y + 2z = 2, \\quad x + z + v = 1,\\quad x\\geq 0 ,  \\quad  y\\geq 0 , \\quad  z\\geq 0 , \\quad  v\\geq 0 , \\quad  w \\geq 0 \\}$$"
   ]
  },
  {
   "cell_type": "code",
   "execution_count": null,
   "metadata": {},
   "outputs": [],
   "source": []
  }
 ],
 "metadata": {
  "kernelspec": {
   "display_name": "Python 3 (ipykernel)",
   "language": "python",
   "name": "python3"
  },
  "language_info": {
   "codemirror_mode": {
    "name": "ipython",
    "version": 3
   },
   "file_extension": ".py",
   "mimetype": "text/x-python",
   "name": "python",
   "nbconvert_exporter": "python",
   "pygments_lexer": "ipython3",
   "version": "3.9.7"
  }
 },
 "nbformat": 4,
 "nbformat_minor": 4
}

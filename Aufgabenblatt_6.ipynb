{
 "cells": [
  {
   "cell_type": "markdown",
   "metadata": {},
   "source": [
    "# Aufgabenblatt 6\n"
   ]
  },
  {
   "cell_type": "markdown",
   "metadata": {},
   "source": [
    "\n",
    "## Nichtlineare Optimierung - 2\n",
    "\n"
   ]
  },
  {
   "cell_type": "markdown",
   "metadata": {},
   "source": [
    "### Aufgabe 1.\n",
    "\n",
    "Lösen Sie folgendes Problem mit der Polytop-Methode (Nelder & Mead)\n",
    "\n",
    "$$ 9 x_1^2 + 4 x_2^2 - 12 x_1 + 12 x_2 +11 \\to \\text{min} $$ \n",
    "\n",
    "Verwenden Sie dabei die Parameter $\\alpha = 1, \\beta= 2, \\gamma = 1/2$ und die Startvektoren $ x=(3,0), y = (0,3), z = (0,0)$.\n",
    "\n"
   ]
  },
  {
   "cell_type": "markdown",
   "metadata": {},
   "source": [
    "### Lösung 1."
   ]
  },
  {
   "cell_type": "markdown",
   "metadata": {},
   "source": [
    "wir stellen sicher ob: $F(x) ≤ F(y) ≤ F(z)$\n",
    "\n",
    "$F(x) = 9(3)^2 + 4(0)^2 - 12(3) + 12(0) + 11 = 56$\n",
    "\n",
    "$F(y) = 9(0)^2 + 4(3)^2 - 12(0) + 12(3) + 11 = 83$\n",
    "\n",
    "$F(z) = 9(0)^2 + 4(0)^2 - 12(0) + 12(0) + 11 = 11$\n",
    "\n",
    "In diesem Fall das stimmt nicht "
   ]
  },
  {
   "cell_type": "markdown",
   "metadata": {},
   "source": [
    "$\\alpha- Klappen$\n",
    "\n",
    "$c = \\frac{1}{2} (x+y) = \\begin{pmatrix} 1,5\\\\ 1,5 \\end{pmatrix} $ \n",
    "\n",
    "$ r:= c + \\alpha(c-z) = \\begin{pmatrix} 3\\\\ 3 \\end{pmatrix} $\n",
    "\n",
    "$\\beta - Strecken, \\beta > 1 $\n",
    "\n",
    "$e := c+ \\beta(r+c) = \\begin{pmatrix} 4,5\\\\ 4,5 \\end{pmatrix}$\n",
    "\n",
    "$\\gamma- Stauchen, \\gamma < 1$\n",
    "\n",
    "$v := c + \\gamma (r+c) = \\begin{pmatrix} 2,25\\\\ 2,25 \\end{pmatrix}$"
   ]
  },
  {
   "cell_type": "markdown",
   "metadata": {},
   "source": [
    "### Aufgabe 2.\n",
    "\n",
    "a) Stellen Sie fest, ob an den Punkten $(0,0)$ und $(0,1)$ die Karush-Kuhn-Tucker Bedingungen für das folgende nichtlineare Optimierungsproblem erfüllen:\n",
    "\n",
    "$$ (x_1-1)^2 + x_2^2 \\to  \\text{max!} $$\n",
    "$$ x_1 \\leq  1$$\n",
    "$$ x_2 \\geq  1$$\n",
    "$$ x_2  - x_1 \\geq 1$$\n",
    "\n",
    "b) Zeichnen Sie eine ausführliche Skizze für das Problem (zulässiger Bereich, Niveaulinien der Zielfunktion,...)\n",
    "\n",
    "c) Bestimmen Sie bei beiden Punkten die Menge der zulässigen Richtungen und die Menge der verbessernden Richtungen und tragen Sie diese in die Skizzen ein.\n"
   ]
  },
  {
   "cell_type": "markdown",
   "metadata": {},
   "source": [
    "### Lösung 2."
   ]
  },
  {
   "cell_type": "markdown",
   "metadata": {},
   "source": [
    "a)\n",
    "Punkt (0,0):\n",
    "\n",
    "ZB:\n",
    "\n",
    "$0 \\leq 1$ (erfüllt), $0 \\geq 1$ (nicht erfüllt), $0 - 0 \\geq 1$ (nicht erfüllt)\n",
    "Da die ZB nicht erfüllt sind, erfüllt der Punkt $(0,0)$ die KKT-Bedingungen nicht.\n",
    "\n"
   ]
  },
  {
   "cell_type": "markdown",
   "metadata": {},
   "source": [
    "Punkt (0,1):\n",
    "\n",
    "ZB: \n",
    "\n",
    "$0 \\leq 1$ (erfüllt)\n",
    "\n",
    "$0 \\geq 1$ (erfüllt)\n",
    "\n",
    "$ 1 - 0 \\geq 1$ (erfüllt)\n",
    "\n",
    "$g_1(0, 1) = 0 - 1 \\leq 0$ (erfüllt)\n",
    "\n",
    "$g_2(0, 1) = -1 + 1 \\leq 0$ (erfüllt)\n",
    "\n",
    "$g_3(0, 1) = -1 + 0 + 1 = 0 \\leq 0$ (erfüllt)\n",
    "\n",
    "\n",
    "GB: \n",
    "$\\nabla f(0, 1) + u_1 \\nabla g_1(0, 1) + u_2 \\nabla g_2(0, 1) + u_3 \\nabla g_3(0, 1) = 0$\n",
    "\n",
    "$\\nabla f(x_1, x_2) = \\begin{pmatrix}  -2\\\\ 2 \\end{pmatrix}$\n",
    "\n",
    "$\\nabla g_1(x_1, x_2) = \\begin{pmatrix} 1\\\\ 0\\end{pmatrix}$\n",
    "\n",
    "$\\nabla g_2(x_1, x_2) = \\begin{pmatrix} 0\\\\ -1\\end{pmatrix}$\n",
    "\n",
    "$\\nabla g_3(x_1, x_2) = \\begin{pmatrix} 1 \\\\ -1\\end{pmatrix}$\n",
    "\n",
    "Setzen wir die Werte in die Gradientenbedingung ein:\n",
    "\n",
    "$(-2, 2) + u_1 (1, 0) + u_2 (0, -1) + u_3 (1, -1) = (0, 0)$\n",
    "\n",
    "Das Gleichungssystem lautet:\n",
    "\n",
    "$-2 + u_1 + u_3 = 0$\n",
    "\n",
    "$2 - u_2 - u_3 = 0$\n",
    "\n",
    "Da alle $u_i \\geq 0$, können wir eine mögliche Lösung finden:\n",
    "\n",
    "$u_1 = 1$, $u_2 = 1$, $u_3 = 1$\n",
    "\n",
    "\n",
    "KB:\n",
    "\n",
    "$u_1 g_1(0, 1) = 0$\n",
    "\n",
    "$u_2 g_2(0, 1) = 0$\n",
    "\n",
    "$u_3 g_3(0, 1) = 0$\n",
    "\n",
    "VB:\n",
    "\n",
    "$u_1 \\geq 0$\n",
    "\n",
    "$u_2 \\geq 0$\n",
    "\n",
    "$u_3 \\geq 0$\n",
    "\n",
    "Diese Werte erfüllen die Gradientenbedingung, die Komplementaritätsbedingung und die Vorzeichenbedingung. Daher erfüllt der Punkt (0,1) die KKT-Bedingungen."
   ]
  },
  {
   "cell_type": "markdown",
   "metadata": {},
   "source": [
    "### Aufgabe 3.\n",
    "Gegeben sei das folgende nichtlineare Optimierungsproblem:\n",
    "\n",
    "$$ - (x_1-x_2)^2  \\to  \\text{min!} $$\n",
    "$$ x_1^2 + x_2^2 \\leq  1$$\n",
    "$$ x_1 + x_2 \\leq  -1$$\n",
    "\n",
    "a) Zeichnen Sie eine ausführliche Skizze für das Problem (zulässiger Bereich, Niveaulinien der Zielfunktion, optimale Lösung).\n",
    "\n",
    "b) Erstellen Sie die dazugehörigen Karush-Kuhn-Tucker Bedingungen.\n",
    "\n",
    "c) Lösen Sie das Problem mit Hilfe der in b) erstellten KKT Bedingungen.\n",
    "\n"
   ]
  },
  {
   "cell_type": "markdown",
   "metadata": {},
   "source": [
    "### Lösung 3."
   ]
  },
  {
   "cell_type": "markdown",
   "metadata": {},
   "source": [
    "b)\n",
    "Die KKT-Bedingungen sind wie folgt:\n",
    "\n",
    "ZB: \n",
    "\n",
    "$g_1(x_1, x_2) = x_1^2 + x_2^2 - 1 \\leq 0$\n",
    "\n",
    "$g_2(x_1, x_2) = x_1 + x_2 + 1 \\leq 0$\n",
    "\n",
    "GB: \n",
    "\n",
    "$\\nabla f(x_1, x_2) + u_1 \\nabla g_1(x_1, x_2) + u_2 \\nabla g_2(x_1, x_2) = (0, 0)$\n",
    "\n",
    "$\\begin {pmatrix} -2(x_1 - x_2) \\\\ 2(x_1 - x_2) \\end {pmatrix} + u_1\\begin {pmatrix} 2x_1 \\\\ 2x_2 \\end {pmatrix} + u_2 \\begin {pmatrix} 1\\\\ 1 \\end {pmatrix} = (0, 0)$\n",
    "\n",
    "KB: \n",
    "\n",
    "$u_1 g_1(x_1, x_2) = 0$\n",
    "\n",
    "$u_2 g_2(x_1, x_2) = 0$\n",
    "\n",
    "\n",
    "VB: \n",
    "\n",
    "$u_1 \\geq 0$\n",
    "\n",
    "$u_2 \\geq 0$\n",
    "\n",
    "c) \n",
    "Das Gleichungssystem lautet:\n",
    "\n",
    "$2(x_1-x_2) + 2u_1x_1 + u_2 = 0$\n",
    "\n",
    "$-2(x_1-x_2) + 2u_1x_2 + u_2 = 0$"
   ]
  },
  {
   "cell_type": "markdown",
   "metadata": {},
   "source": [
    "### Aufgabe 4. \n",
    "\n",
    "Gegeben sei eine Produktionsfunktion $ f(x,y) = x^{2/3}y^{1/3}$ und dazu eine Budgetbeschränkung $x + y=4000$.\n",
    "\n",
    "a) Bestimmen Sie die Lösungen mithilfe des Verfahrens der Lagrange‘schen Multiplikatoren.\n",
    "\n",
    "b) Für welche Werte $x$ und $y$ ergibt sich ein Produktionsmaximum? \n",
    "\n",
    "c) Was ist der maximale Produktionswert? \n"
   ]
  },
  {
   "cell_type": "markdown",
   "metadata": {},
   "source": [
    "### Lösung 4. "
   ]
  },
  {
   "cell_type": "markdown",
   "metadata": {},
   "source": [
    "Die Lagrange-Funktion $L(x, y, v_1)= f(x,y) + v_1h_1(x,y) = x^\\frac{2}{3}+ y^\\frac{1}{3} + v_1(x+y +4000)$\n",
    "\n",
    "Die Gradienten gleich 0 setzen:\n",
    "\n",
    "$\\nabla L(x, y, v_1) = \\frac{2}{3}x^\\frac{-1}{3}y^\\frac{1}{3} + v_1, \\frac{1}{3}x^\\frac{2}{3}y^\\frac{-2}{3} + v_1, x+y- 4000 = 0$"
   ]
  },
  {
   "cell_type": "markdown",
   "metadata": {},
   "source": [
    "Gleichung 1: $\\frac{2}{3}x^\\frac{-1}{3}y^\\frac{1}{3} = v_1$\n",
    "\n",
    "Gleichung 2: $\\frac{1}{3}x^\\frac{2}{3}y^\\frac{-2}{3}= v_1$\n",
    "\n",
    "Gleichung 3: $x + y = 4000$\n",
    "\n",
    "Um das Produktionsmaximum zu finden, lösen wir das Gleichungssytem für x und y \n"
   ]
  },
  {
   "cell_type": "markdown",
   "metadata": {},
   "source": [
    "### Aufgabe 5. \n",
    "\n",
    "Lösen Sie mit der Methode der Straf-  bzw. Barrierefunktionen folgende Aufgaben:\n",
    "<ol>\n",
    " \n",
    "<li>   $$f(x) = x_1^2 + x_2^2  \\to \\text{min},  \\quad x_1^2 - x_2 \\leq 0, \\quad -x_1  \\leq 0.$$ </li>\n",
    "            \n",
    "<li>  $$f(x) = x^2  - 10 x \\to \\text{min}, \\quad x - 1 \\leq 0 \\quad\\text{(mit der logarithmischen Barrierefunktion)}.$$  </li>\n",
    "    \n",
    "<li>   $$f(x) = (x_1 - x_2)^2 + (x_2 - x_3)^2 \\to \\text{min},  \\quad x_1^2 + x_1 x_2^2 + x_3^4 = 3 \\quad\n",
    "    \\text{(mit der quadratischen Straffunktion)}. $$ </li>\n",
    "    \n",
    "</ol>\n"
   ]
  },
  {
   "cell_type": "code",
   "execution_count": null,
   "metadata": {},
   "outputs": [],
   "source": []
  },
  {
   "cell_type": "code",
   "execution_count": null,
   "metadata": {},
   "outputs": [],
   "source": []
  }
 ],
 "metadata": {
  "kernelspec": {
   "display_name": "Python 3 (ipykernel)",
   "language": "python",
   "name": "python3"
  },
  "language_info": {
   "codemirror_mode": {
    "name": "ipython",
    "version": 3
   },
   "file_extension": ".py",
   "mimetype": "text/x-python",
   "name": "python",
   "nbconvert_exporter": "python",
   "pygments_lexer": "ipython3",
   "version": "3.9.13"
  }
 },
 "nbformat": 4,
 "nbformat_minor": 4
}

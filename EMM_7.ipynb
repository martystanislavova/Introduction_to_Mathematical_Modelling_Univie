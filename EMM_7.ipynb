{
 "cells": [
  {
   "cell_type": "markdown",
   "metadata": {},
   "source": [
    "# Aufgabenblatt 7\n",
    "\n"
   ]
  },
  {
   "cell_type": "markdown",
   "metadata": {},
   "source": [
    "\n",
    "## Ganzzahlige Optimierung,  Kombinatorische Optimierung\n",
    "\n"
   ]
  },
  {
   "cell_type": "code",
   "execution_count": 1,
   "metadata": {},
   "outputs": [],
   "source": [
    "import numpy as np\n",
    "import pyny3d.geoms as pyny\n",
    "from matplotlib import pyplot as plt"
   ]
  },
  {
   "cell_type": "code",
   "execution_count": 7,
   "metadata": {},
   "outputs": [
    {
     "name": "stdout",
     "output_type": "stream",
     "text": [
      "Collecting python-igraph\n",
      "  Downloading python_igraph-0.9.10-py3-none-any.whl (9.1 kB)\n",
      "Collecting igraph==0.9.10\n",
      "  Downloading igraph-0.9.10-cp38-cp38-win_amd64.whl (2.8 MB)\n",
      "Collecting texttable>=1.6.2\n",
      "  Downloading texttable-1.6.4-py2.py3-none-any.whl (10 kB)\n",
      "Installing collected packages: texttable, igraph, python-igraph\n",
      "Successfully installed igraph-0.9.10 python-igraph-0.9.10 texttable-1.6.4\n"
     ]
    }
   ],
   "source": [
    "!pip install python-igraph"
   ]
  },
  {
   "cell_type": "code",
   "execution_count": 10,
   "metadata": {},
   "outputs": [
    {
     "name": "stdout",
     "output_type": "stream",
     "text": [
      "Collecting jupyter-dash\n",
      "  Downloading jupyter_dash-0.4.2-py3-none-any.whl (23 kB)\n",
      "Requirement already satisfied: ipython in c:\\users\\user\\anaconda3\\lib\\site-packages (from jupyter-dash) (7.19.0)\n",
      "Collecting retrying\n",
      "  Downloading retrying-1.3.3.tar.gz (10 kB)\n",
      "Collecting dash\n",
      "  Downloading dash-2.3.1-py3-none-any.whl (9.6 MB)\n",
      "Requirement already satisfied: ipykernel in c:\\users\\user\\anaconda3\\lib\\site-packages (from jupyter-dash) (5.3.4)\n",
      "Requirement already satisfied: requests in c:\\users\\user\\anaconda3\\lib\\site-packages (from jupyter-dash) (2.24.0)\n",
      "Requirement already satisfied: flask in c:\\users\\user\\anaconda3\\lib\\site-packages (from jupyter-dash) (1.1.2)\n",
      "Requirement already satisfied: nest-asyncio in c:\\users\\user\\anaconda3\\lib\\site-packages (from jupyter-dash) (1.4.2)\n",
      "Collecting ansi2html\n",
      "  Downloading ansi2html-1.7.0-py3-none-any.whl (15 kB)\n",
      "Requirement already satisfied: traitlets>=4.2 in c:\\users\\user\\anaconda3\\lib\\site-packages (from ipython->jupyter-dash) (5.0.5)\n",
      "Requirement already satisfied: colorama; sys_platform == \"win32\" in c:\\users\\user\\anaconda3\\lib\\site-packages (from ipython->jupyter-dash) (0.4.4)\n",
      "Requirement already satisfied: setuptools>=18.5 in c:\\users\\user\\anaconda3\\lib\\site-packages (from ipython->jupyter-dash) (50.3.1.post20201107)\n",
      "Requirement already satisfied: prompt-toolkit!=3.0.0,!=3.0.1,<3.1.0,>=2.0.0 in c:\\users\\user\\anaconda3\\lib\\site-packages (from ipython->jupyter-dash) (3.0.8)\n",
      "Requirement already satisfied: pickleshare in c:\\users\\user\\anaconda3\\lib\\site-packages (from ipython->jupyter-dash) (0.7.5)\n",
      "Requirement already satisfied: decorator in c:\\users\\user\\anaconda3\\lib\\site-packages (from ipython->jupyter-dash) (4.4.2)\n",
      "Requirement already satisfied: pygments in c:\\users\\user\\anaconda3\\lib\\site-packages (from ipython->jupyter-dash) (2.7.2)\n",
      "Requirement already satisfied: backcall in c:\\users\\user\\anaconda3\\lib\\site-packages (from ipython->jupyter-dash) (0.2.0)\n",
      "Requirement already satisfied: jedi>=0.10 in c:\\users\\user\\anaconda3\\lib\\site-packages (from ipython->jupyter-dash) (0.17.1)\n",
      "Requirement already satisfied: six>=1.7.0 in c:\\users\\user\\anaconda3\\lib\\site-packages (from retrying->jupyter-dash) (1.15.0)\n",
      "Collecting plotly>=5.0.0\n",
      "  Downloading plotly-5.7.0-py2.py3-none-any.whl (28.8 MB)\n",
      "Collecting flask-compress\n",
      "  Downloading Flask_Compress-1.12-py3-none-any.whl (7.9 kB)\n",
      "Collecting dash-html-components==2.0.0\n",
      "  Downloading dash_html_components-2.0.0-py3-none-any.whl (4.1 kB)\n",
      "Collecting dash-table==5.0.0\n",
      "  Downloading dash_table-5.0.0-py3-none-any.whl (3.9 kB)\n",
      "Collecting dash-core-components==2.0.0\n",
      "  Downloading dash_core_components-2.0.0-py3-none-any.whl (3.8 kB)\n",
      "Requirement already satisfied: tornado>=4.2 in c:\\users\\user\\anaconda3\\lib\\site-packages (from ipykernel->jupyter-dash) (6.0.4)\n",
      "Requirement already satisfied: jupyter-client in c:\\users\\user\\anaconda3\\lib\\site-packages (from ipykernel->jupyter-dash) (6.1.7)\n",
      "Requirement already satisfied: chardet<4,>=3.0.2 in c:\\users\\user\\anaconda3\\lib\\site-packages (from requests->jupyter-dash) (3.0.4)\n",
      "Requirement already satisfied: idna<3,>=2.5 in c:\\users\\user\\anaconda3\\lib\\site-packages (from requests->jupyter-dash) (2.10)\n",
      "Requirement already satisfied: certifi>=2017.4.17 in c:\\users\\user\\anaconda3\\lib\\site-packages (from requests->jupyter-dash) (2020.6.20)\n",
      "Requirement already satisfied: urllib3!=1.25.0,!=1.25.1,<1.26,>=1.21.1 in c:\\users\\user\\anaconda3\\lib\\site-packages (from requests->jupyter-dash) (1.25.11)\n",
      "Requirement already satisfied: Werkzeug>=0.15 in c:\\users\\user\\anaconda3\\lib\\site-packages (from flask->jupyter-dash) (1.0.1)\n",
      "Requirement already satisfied: itsdangerous>=0.24 in c:\\users\\user\\anaconda3\\lib\\site-packages (from flask->jupyter-dash) (1.1.0)\n",
      "Requirement already satisfied: Jinja2>=2.10.1 in c:\\users\\user\\anaconda3\\lib\\site-packages (from flask->jupyter-dash) (2.11.2)\n",
      "Requirement already satisfied: click>=5.1 in c:\\users\\user\\anaconda3\\lib\\site-packages (from flask->jupyter-dash) (7.1.2)\n",
      "Requirement already satisfied: ipython-genutils in c:\\users\\user\\anaconda3\\lib\\site-packages (from traitlets>=4.2->ipython->jupyter-dash) (0.2.0)\n",
      "Requirement already satisfied: wcwidth in c:\\users\\user\\anaconda3\\lib\\site-packages (from prompt-toolkit!=3.0.0,!=3.0.1,<3.1.0,>=2.0.0->ipython->jupyter-dash) (0.2.5)\n",
      "Requirement already satisfied: parso<0.8.0,>=0.7.0 in c:\\users\\user\\anaconda3\\lib\\site-packages (from jedi>=0.10->ipython->jupyter-dash) (0.7.0)\n",
      "Collecting tenacity>=6.2.0\n",
      "  Downloading tenacity-8.0.1-py3-none-any.whl (24 kB)\n",
      "Collecting brotli\n",
      "  Downloading Brotli-1.0.9-cp38-cp38-win_amd64.whl (365 kB)\n",
      "Requirement already satisfied: pyzmq>=13 in c:\\users\\user\\anaconda3\\lib\\site-packages (from jupyter-client->ipykernel->jupyter-dash) (19.0.2)\n",
      "Requirement already satisfied: python-dateutil>=2.1 in c:\\users\\user\\anaconda3\\lib\\site-packages (from jupyter-client->ipykernel->jupyter-dash) (2.8.1)\n",
      "Requirement already satisfied: jupyter-core>=4.6.0 in c:\\users\\user\\anaconda3\\lib\\site-packages (from jupyter-client->ipykernel->jupyter-dash) (4.6.3)\n",
      "Requirement already satisfied: MarkupSafe>=0.23 in c:\\users\\user\\anaconda3\\lib\\site-packages (from Jinja2>=2.10.1->flask->jupyter-dash) (1.1.1)\n",
      "Requirement already satisfied: pywin32>=1.0; sys_platform == \"win32\" in c:\\users\\user\\anaconda3\\lib\\site-packages (from jupyter-core>=4.6.0->jupyter-client->ipykernel->jupyter-dash) (227)\n",
      "Building wheels for collected packages: retrying\n",
      "  Building wheel for retrying (setup.py): started\n",
      "  Building wheel for retrying (setup.py): finished with status 'done'\n",
      "  Created wheel for retrying: filename=retrying-1.3.3-py3-none-any.whl size=11434 sha256=03bcbdc788ca2b8cd34ff4d371a9a7bf1e73241ee9236bd5da8dbe817d66e567\n",
      "  Stored in directory: c:\\users\\user\\appdata\\local\\pip\\cache\\wheels\\c4\\a7\\48\\0a434133f6d56e878ca511c0e6c38326907c0792f67b476e56\n",
      "Successfully built retrying\n",
      "Installing collected packages: retrying, tenacity, plotly, brotli, flask-compress, dash-html-components, dash-table, dash-core-components, dash, ansi2html, jupyter-dash\n",
      "Successfully installed ansi2html-1.7.0 brotli-1.0.9 dash-2.3.1 dash-core-components-2.0.0 dash-html-components-2.0.0 dash-table-5.0.0 flask-compress-1.12 jupyter-dash-0.4.2 plotly-5.7.0 retrying-1.3.3 tenacity-8.0.1\n",
      "Note: you may need to restart the kernel to use updated packages.\n"
     ]
    }
   ],
   "source": [
    "pip install jupyter-dash"
   ]
  },
  {
   "cell_type": "code",
   "execution_count": 4,
   "metadata": {},
   "outputs": [
    {
     "name": "stdout",
     "output_type": "stream",
     "text": [
      "Requirement already satisfied: pypi in c:\\users\\user\\anaconda3\\lib\\site-packages (2.1)\n",
      "Note: you may need to restart the kernel to use updated packages.\n"
     ]
    }
   ],
   "source": [
    "pip install pypi"
   ]
  },
  {
   "cell_type": "code",
   "execution_count": 5,
   "metadata": {},
   "outputs": [
    {
     "name": "stdout",
     "output_type": "stream",
     "text": [
      "Collecting treelib\n",
      "  Downloading treelib-1.6.1.tar.gz (24 kB)\n",
      "Requirement already satisfied: future in c:\\users\\user\\anaconda3\\lib\\site-packages (from treelib) (0.18.2)\n",
      "Building wheels for collected packages: treelib\n",
      "  Building wheel for treelib (setup.py): started\n",
      "  Building wheel for treelib (setup.py): finished with status 'done'\n",
      "  Created wheel for treelib: filename=treelib-1.6.1-py3-none-any.whl size=18374 sha256=1418541337c47e92c0747cb0d19eec34008c3e04f5adb11e5e1dda684dbb14b5\n",
      "Note: you may need to restart the kernel to use updated packages.  Stored in directory: c:\\users\\user\\appdata\\local\\pip\\cache\\wheels\\71\\df\\8b\\6b005e3bb9b275c24dfc392cda334f43f132e85a6f17cfad3a\n",
      "Successfully built treelib\n",
      "Installing collected packages: treelib\n",
      "Successfully installed treelib-1.6.1\n",
      "\n"
     ]
    }
   ],
   "source": [
    "pip install treelib"
   ]
  },
  {
   "cell_type": "code",
   "execution_count": 6,
   "metadata": {},
   "outputs": [
    {
     "name": "stdout",
     "output_type": "stream",
     "text": [
      "Collecting pulp\n",
      "  Downloading PuLP-2.6.0-py3-none-any.whl (14.2 MB)\n",
      "Installing collected packages: pulp\n",
      "Successfully installed pulp-2.6.0\n",
      "Note: you may need to restart the kernel to use updated packages.\n"
     ]
    }
   ],
   "source": [
    "pip install pulp"
   ]
  },
  {
   "cell_type": "code",
   "execution_count": 2,
   "metadata": {},
   "outputs": [],
   "source": [
    "from pulp import *"
   ]
  },
  {
   "cell_type": "markdown",
   "metadata": {},
   "source": [
    "### Aufgabe 1.\n",
    "\n",
    "Lösen Sie mit dem Branch und Bound Algorithmus das ganzzahlige Problem\n",
    "\n",
    "$$ x_1  + 4 x_2  \\to  \\text{max!} $$\n",
    "$$ 5 x_1 + 8 x_2 \\leq  40$$\n",
    "$$ -2 x_1 + 3 x_2 \\leq  9$$\n",
    "$$ x_1 \\geq  0$$\n",
    "$$ x_2 \\geq  0$$\n",
    "\n",
    "Zeichnen Sie den zugehörigen Verzweigungsbaum und verfolgen Sie die Lösung der einzelnen Teilproblemen anhand einer Skizze.\n",
    "\n",
    "\n",
    "\n",
    "\n",
    "\n"
   ]
  },
  {
   "cell_type": "code",
   "execution_count": 4,
   "metadata": {},
   "outputs": [],
   "source": [
    "from scipy.optimize import linprog\n",
    "\n",
    "b = [40, 9]\n",
    "A = [[5, 8], [-2, 3]]\n",
    "c = [-1, -4]"
   ]
  },
  {
   "cell_type": "code",
   "execution_count": 5,
   "metadata": {},
   "outputs": [
    {
     "name": "stdout",
     "output_type": "stream",
     "text": [
      "     con: array([], dtype=float64)\n",
      "     fun: -17.67741935468467\n",
      " message: 'Optimization terminated successfully.'\n",
      "     nit: 4\n",
      "   slack: array([3.11061399e-10, 1.12795107e-10])\n",
      "  status: 0\n",
      " success: True\n",
      "       x: array([1.5483871 , 4.03225806])\n"
     ]
    }
   ],
   "source": [
    "model_linear = linprog(c, A, b)\n",
    "print(model_linear)"
   ]
  },
  {
   "cell_type": "code",
   "execution_count": 15,
   "metadata": {},
   "outputs": [
    {
     "name": "stdout",
     "output_type": "stream",
     "text": [
      "Status: Optimal\n",
      "x1 = 3.0\n",
      "x2 = 3.0\n"
     ]
    }
   ],
   "source": [
    "prob = LpProblem(\"Test Problem\", LpMaximize)\n",
    "\n",
    "x1 = LpVariable(\"x1\", 0, None, LpInteger)\n",
    "x2 = LpVariable(\"x2\", 0, None, LpInteger)\n",
    "\n",
    "prob += 1*x1 + 4*x2, \"maximum output\"\n",
    "\n",
    "prob += 5*x1 + 8*x2 <=40, \"constraint1\"\n",
    "prob += -2*x1 + 3*x2 <= 9, \"constraint2\"\n",
    "\n",
    "prob.solve()\n",
    "\n",
    "print(\"Status:\", LpStatus[prob.status])\n",
    "\n",
    "for v in prob.variables():\n",
    "    print (v.name, \"=\", v.varValue)"
   ]
  },
  {
   "cell_type": "code",
   "execution_count": 16,
   "metadata": {},
   "outputs": [
    {
     "name": "stdout",
     "output_type": "stream",
     "text": [
      "(x1, x2) = (1,55, 4,03), U = 17,677\n",
      "├── (x1, x2) = (1, 3,6), U = 15,6\n",
      "│   ├── (x1, x2) = (1, 3), U = 13\n",
      "│   └── keine zulaessige Loesung\n",
      "└── (x1, x2) = (2, 3,75), U = 17\n",
      "    ├── (x1, x2) = (3,2 3), U = 15,2\n",
      "    │   ├── (x1, x2) = (3, 3), U = 15\n",
      "    │   └── (x1, x2) = (4, 2,5), U = 14\n",
      "    └── keine zulaessige Loesung\n",
      "\n"
     ]
    }
   ],
   "source": [
    "from treelib import Node, Tree\n",
    "tree = Tree()\n",
    "tree.create_node(\"(x1, x2) = (1,55, 4,03), U = 17,677\",\"P1\") #root\n",
    "tree.create_node(\"(x1, x2) = (1, 3,6), U = 15,6\",\"TP1\",parent=\"P1\" )\n",
    "tree.create_node(\"(x1, x2) = (2, 3,75), U = 17\",\"TP2\",parent=\"P1\" )\n",
    "tree.create_node(\"(x1, x2) = (1, 3), U = 13\",\"TP3\",parent=\"TP1\" )\n",
    "tree.create_node(\"keine zulaessige Loesung\",\"TP4\",parent=\"TP1\" )\n",
    "tree.create_node(\"(x1, x2) = (3,2 3), U = 15,2\",\"TP5\",parent=\"TP2\" )\n",
    "tree.create_node(\"keine zulaessige Loesung\",\"TP6\",parent=\"TP2\" )\n",
    "tree.create_node(\"(x1, x2) = (3, 3), U = 15\",\"TP7\",parent=\"TP5\" )\n",
    "tree.create_node(\"(x1, x2) = (4, 2,5), U = 14\",\"TP8\",parent=\"TP5\" )\n",
    "tree.show()"
   ]
  },
  {
   "cell_type": "markdown",
   "metadata": {},
   "source": [
    "### Aufgabe 2. \n",
    "\n",
    "Lösen Sie die rein ganzzahlige Optimierungsaufgabe \n",
    "\n",
    " \n",
    "$$ 2 x_1 + x_2 + x_§  \\to \\text{max!}$$\n",
    "\n",
    "$$ 2 x_1  - 3 x_2 + 3 x_3 \\leq 4 $$\n",
    "$$ 4 x_1  + x_2 + x_3 \\leq 8 $$\n",
    "$$  x_1 \\geq 0 , \\, x_2  \\geq 0, \\,  x_3 \\geq 0 $$\n",
    "\n",
    "mit Hilfe des Gomory-Verfahrens.\n"
   ]
  },
  {
   "cell_type": "markdown",
   "metadata": {},
   "source": [
    "### Aufgabe 3. \n",
    "\n",
    " \n",
    "Bestimmen Sie für das nachfolgende Rundreiseproblem mit 4 Städten eine Optimallösung. Wie viele zulässige Lösungen gibt es? Wie viele zulässige Lösungen erhält man, wenn noch eine 5. Stadt besucht werden soll? Wie viele zulässige Lösungen hat ein n Städte Problem?\n",
    "\n",
    "Entfernungstabelle (in km) für 4 Städte A, B, C, D:\n",
    "\n",
    "\n",
    " \n"
   ]
  },
  {
   "cell_type": "code",
   "execution_count": 3,
   "metadata": {},
   "outputs": [
    {
     "data": {
      "text/html": [
       "<div>\n",
       "<style scoped>\n",
       "    .dataframe tbody tr th:only-of-type {\n",
       "        vertical-align: middle;\n",
       "    }\n",
       "\n",
       "    .dataframe tbody tr th {\n",
       "        vertical-align: top;\n",
       "    }\n",
       "\n",
       "    .dataframe thead th {\n",
       "        text-align: right;\n",
       "    }\n",
       "</style>\n",
       "<table border=\"1\" class=\"dataframe\">\n",
       "  <thead>\n",
       "    <tr style=\"text-align: right;\">\n",
       "      <th></th>\n",
       "      <th>A</th>\n",
       "      <th>B</th>\n",
       "      <th>C</th>\n",
       "      <th>D</th>\n",
       "    </tr>\n",
       "  </thead>\n",
       "  <tbody>\n",
       "    <tr>\n",
       "      <th>A</th>\n",
       "      <td>0</td>\n",
       "      <td>100</td>\n",
       "      <td>150</td>\n",
       "      <td>200</td>\n",
       "    </tr>\n",
       "    <tr>\n",
       "      <th>B</th>\n",
       "      <td>100</td>\n",
       "      <td>0</td>\n",
       "      <td>80</td>\n",
       "      <td>120</td>\n",
       "    </tr>\n",
       "    <tr>\n",
       "      <th>C</th>\n",
       "      <td>150</td>\n",
       "      <td>80</td>\n",
       "      <td>0</td>\n",
       "      <td>160</td>\n",
       "    </tr>\n",
       "    <tr>\n",
       "      <th>D</th>\n",
       "      <td>200</td>\n",
       "      <td>120</td>\n",
       "      <td>180</td>\n",
       "      <td>0</td>\n",
       "    </tr>\n",
       "  </tbody>\n",
       "</table>\n",
       "</div>"
      ],
      "text/plain": [
       "     A    B    C    D\n",
       "A    0  100  150  200\n",
       "B  100    0   80  120\n",
       "C  150   80    0  160\n",
       "D  200  120  180    0"
      ]
     },
     "execution_count": 3,
     "metadata": {},
     "output_type": "execute_result"
    }
   ],
   "source": [
    "import pandas as pd\n",
    "import numpy as np\n",
    "S1 =\"A\"\n",
    "S2 =\"B\"\n",
    "S3 =\"C\"\n",
    "S4 =\"D\"\n",
    "row_labels=[S1,S2,S3,S4]\n",
    "df = pd.DataFrame(data = np.array([[0,100,150,200],[100,0,80,120],[150,80,0,160],[200,120,180,0]]), columns = ['A','B','C','D'], index=row_labels)\n",
    "df\n",
    "\n"
   ]
  },
  {
   "cell_type": "markdown",
   "metadata": {},
   "source": [
    "$(n-1)!$ zulaessige Loesungen\n",
    "\n",
    "$\\Rightarrow$ fuer 4 Staedten sind 6 Moeglichkeiten und fuer 5 Staedten 24 Moeglichkeiten\n"
   ]
  },
  {
   "cell_type": "code",
   "execution_count": 25,
   "metadata": {},
   "outputs": [
    {
     "name": "stdout",
     "output_type": "stream",
     "text": [
      "Collecting python-tsp\n",
      "  Downloading python_tsp-0.2.1-py3-none-any.whl (14 kB)\n",
      "Requirement already satisfied: numpy<2.0.0,>=1.18.5 in c:\\users\\user\\anaconda3\\lib\\site-packages (from python-tsp) (1.19.2)\n",
      "Collecting tsplib95<0.8.0,>=0.7.1\n",
      "  Downloading tsplib95-0.7.1-py2.py3-none-any.whl (25 kB)\n",
      "Collecting tabulate~=0.8.7\n",
      "  Downloading tabulate-0.8.9-py3-none-any.whl (25 kB)\n",
      "Collecting Deprecated~=1.2.9\n",
      "  Downloading Deprecated-1.2.13-py2.py3-none-any.whl (9.6 kB)\n",
      "Requirement already satisfied: Click>=6.0 in c:\\users\\user\\anaconda3\\lib\\site-packages (from tsplib95<0.8.0,>=0.7.1->python-tsp) (7.1.2)\n",
      "Requirement already satisfied: networkx~=2.1 in c:\\users\\user\\anaconda3\\lib\\site-packages (from tsplib95<0.8.0,>=0.7.1->python-tsp) (2.5)\n",
      "Requirement already satisfied: wrapt<2,>=1.10 in c:\\users\\user\\anaconda3\\lib\\site-packages (from Deprecated~=1.2.9->tsplib95<0.8.0,>=0.7.1->python-tsp) (1.11.2)\n",
      "Requirement already satisfied: decorator>=4.3.0 in c:\\users\\user\\anaconda3\\lib\\site-packages (from networkx~=2.1->tsplib95<0.8.0,>=0.7.1->python-tsp) (4.4.2)\n",
      "Installing collected packages: tabulate, Deprecated, tsplib95, python-tsp\n",
      "Successfully installed Deprecated-1.2.13 python-tsp-0.2.1 tabulate-0.8.9 tsplib95-0.7.1\n",
      "Note: you may need to restart the kernel to use updated packages.\n"
     ]
    }
   ],
   "source": [
    "pip install python-tsp"
   ]
  },
  {
   "cell_type": "code",
   "execution_count": 51,
   "metadata": {},
   "outputs": [
    {
     "name": "stdout",
     "output_type": "stream",
     "text": [
      "Der kürzeste Weg: [0, 2, 3, 1]\n",
      "Optimalloesung: 530\n"
     ]
    }
   ],
   "source": [
    "from python_tsp.exact import solve_tsp_dynamic_programming\n",
    "\n",
    "distance_matrix = np.array([\n",
    "    [0, 100, 150, 200],\n",
    "    [100, 0, 80, 120],\n",
    "    [150, 80, 0, 160],\n",
    "    [200, 120, 180, 0]\n",
    "])\n",
    "permutation, distance = solve_tsp_dynamic_programming(distance_matrix)\n",
    "\n",
    "print(\"Der kürzeste Weg:\", permutation)\n",
    "print(\"Optimalloesung:\", distance)"
   ]
  },
  {
   "cell_type": "markdown",
   "metadata": {},
   "source": [
    "### Aufgabe_4.\n",
    "\n",
    "In einem Bezirk gibt es sechs größere Städte, für die der lokale Feuerwehrdienst rationalisiert, d.h. die Anzahl der Feuerwehrhäuser minimiert werden soll. Insbesondere sollen dabei die Anzahl und die räumliche Anordnung der Feuerwehrhäuser (jede Stadt hatte eine Station) so bestimmt werden, dass jede Stadt innerhalb von 20 Minuten von einem Feuerwehrhaus erreicht werden kann. Bekannt sind die Fahrzeiten von einer Stadt zu einer anderen Stadt, nachfolgend in Minuten spezifiziert:\n",
    "\n",
    "\n",
    " "
   ]
  },
  {
   "cell_type": "code",
   "execution_count": 9,
   "metadata": {
    "scrolled": true
   },
   "outputs": [
    {
     "data": {
      "text/html": [
       "<div>\n",
       "<style scoped>\n",
       "    .dataframe tbody tr th:only-of-type {\n",
       "        vertical-align: middle;\n",
       "    }\n",
       "\n",
       "    .dataframe tbody tr th {\n",
       "        vertical-align: top;\n",
       "    }\n",
       "\n",
       "    .dataframe thead th {\n",
       "        text-align: right;\n",
       "    }\n",
       "</style>\n",
       "<table border=\"1\" class=\"dataframe\">\n",
       "  <thead>\n",
       "    <tr style=\"text-align: right;\">\n",
       "      <th></th>\n",
       "      <th>A</th>\n",
       "      <th>B</th>\n",
       "      <th>C</th>\n",
       "      <th>D</th>\n",
       "      <th>E</th>\n",
       "      <th>F</th>\n",
       "    </tr>\n",
       "  </thead>\n",
       "  <tbody>\n",
       "    <tr>\n",
       "      <th>A</th>\n",
       "      <td>0</td>\n",
       "      <td>15</td>\n",
       "      <td>25</td>\n",
       "      <td>35</td>\n",
       "      <td>35</td>\n",
       "      <td>25</td>\n",
       "    </tr>\n",
       "    <tr>\n",
       "      <th>B</th>\n",
       "      <td>15</td>\n",
       "      <td>0</td>\n",
       "      <td>30</td>\n",
       "      <td>40</td>\n",
       "      <td>25</td>\n",
       "      <td>15</td>\n",
       "    </tr>\n",
       "    <tr>\n",
       "      <th>C</th>\n",
       "      <td>25</td>\n",
       "      <td>30</td>\n",
       "      <td>0</td>\n",
       "      <td>20</td>\n",
       "      <td>30</td>\n",
       "      <td>25</td>\n",
       "    </tr>\n",
       "    <tr>\n",
       "      <th>D</th>\n",
       "      <td>35</td>\n",
       "      <td>40</td>\n",
       "      <td>20</td>\n",
       "      <td>0</td>\n",
       "      <td>20</td>\n",
       "      <td>30</td>\n",
       "    </tr>\n",
       "    <tr>\n",
       "      <th>E</th>\n",
       "      <td>35</td>\n",
       "      <td>25</td>\n",
       "      <td>35</td>\n",
       "      <td>20</td>\n",
       "      <td>0</td>\n",
       "      <td>19</td>\n",
       "    </tr>\n",
       "    <tr>\n",
       "      <th>F</th>\n",
       "      <td>25</td>\n",
       "      <td>15</td>\n",
       "      <td>25</td>\n",
       "      <td>30</td>\n",
       "      <td>19</td>\n",
       "      <td>0</td>\n",
       "    </tr>\n",
       "  </tbody>\n",
       "</table>\n",
       "</div>"
      ],
      "text/plain": [
       "    A   B   C   D   E   F\n",
       "A   0  15  25  35  35  25\n",
       "B  15   0  30  40  25  15\n",
       "C  25  30   0  20  30  25\n",
       "D  35  40  20   0  20  30\n",
       "E  35  25  35  20   0  19\n",
       "F  25  15  25  30  19   0"
      ]
     },
     "execution_count": 9,
     "metadata": {},
     "output_type": "execute_result"
    }
   ],
   "source": [
    "import pandas as pd\n",
    "import numpy as np\n",
    "S1 =\"A\"\n",
    "S2 =\"B\"\n",
    "S3 =\"C\"\n",
    "S4 =\"D\"\n",
    "S5 =\"E\"\n",
    "S6 =\"F\"\n",
    "row_labels=[S1,S2,S3,S4,S5,S6]\n",
    "df = pd.DataFrame(data = np.array([[0,15,25,35,35,25],[15,0,30,40,25,15],\n",
    "                                   [25,30,0,20,30,25],[35,40,20,0,20,30],\n",
    "                                   [35,25,35,20,0,19],[25,15,25,30,19,0]]),\n",
    "columns = ['A','B','C','D','E','F', ], index=row_labels)\n",
    "df\n"
   ]
  },
  {
   "cell_type": "markdown",
   "metadata": {},
   "source": [
    "Zu entscheiden ist, welche Feuerwehrhäuser weiterhin betrieben werden sollen, sodass die erwünschte Abdeckung gewährleistet und gleichzeitig die Anzahl der betriebenen Feuerwehrhäuser minimal wird."
   ]
  }
 ],
 "metadata": {
  "kernelspec": {
   "display_name": "Python 3",
   "language": "python",
   "name": "python3"
  },
  "language_info": {
   "codemirror_mode": {
    "name": "ipython",
    "version": 3
   },
   "file_extension": ".py",
   "mimetype": "text/x-python",
   "name": "python",
   "nbconvert_exporter": "python",
   "pygments_lexer": "ipython3",
   "version": "3.8.5"
  }
 },
 "nbformat": 4,
 "nbformat_minor": 2
}
